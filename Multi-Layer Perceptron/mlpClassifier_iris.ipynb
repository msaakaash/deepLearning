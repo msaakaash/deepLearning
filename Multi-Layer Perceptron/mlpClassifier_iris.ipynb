{
 "cells": [
  {
   "cell_type": "markdown",
   "id": "3ae37b4e-3371-4660-aee0-8d2867d4c53f",
   "metadata": {},
   "source": [
    "<b>Loading<b>"
   ]
  },
  {
   "cell_type": "code",
   "execution_count": 21,
   "id": "2e77bc6d-1894-44d2-a00e-c63640a39224",
   "metadata": {},
   "outputs": [],
   "source": [
    "import pandas as pd\n",
    "import numpy as np\n",
    "import matplotlib.pyplot as plt\n",
    "import tensorflow as tf\n",
    "import datetime\n",
    "from tensorflow import keras\n",
    "from tensorflow.keras.utils import to_categorical"
   ]
  },
  {
   "cell_type": "code",
   "execution_count": 22,
   "id": "5d18822c-6abf-49f1-8abd-21e43a965076",
   "metadata": {},
   "outputs": [],
   "source": [
    "log_dir = \"logs/fit/\" + datetime.datetime.now().strftime(\"%Y%m%d-%H%M%S\")\n",
    "tensorboard_callback = tf.keras.callbacks.TensorBoard(log_dir=log_dir, histogram_freq=1)"
   ]
  },
  {
   "cell_type": "code",
   "execution_count": 23,
   "id": "5ac09320-6ead-4350-a817-9ac239c716bf",
   "metadata": {},
   "outputs": [],
   "source": [
    "from sklearn.datasets import load_iris\n",
    "iris = load_iris()\n",
    "x = iris.data\n",
    "y = iris.target"
   ]
  },
  {
   "cell_type": "markdown",
   "id": "aa96de80-6a47-452a-ac39-a760f0efc06b",
   "metadata": {},
   "source": [
    "<b>Train and Test split<b>"
   ]
  },
  {
   "cell_type": "code",
   "execution_count": 24,
   "id": "d09008ca-f237-41a4-9d3a-c40600cd3509",
   "metadata": {},
   "outputs": [],
   "source": [
    "from sklearn.preprocessing import OneHotEncoder\n",
    "encoder = OneHotEncoder(sparse=False)"
   ]
  },
  {
   "cell_type": "code",
   "execution_count": 25,
   "id": "c3f0a918-9613-4536-b1fc-f7656ee59baa",
   "metadata": {},
   "outputs": [
    {
     "name": "stderr",
     "output_type": "stream",
     "text": [
      "C:\\ProgramData\\anaconda3\\Lib\\site-packages\\sklearn\\preprocessing\\_encoders.py:868: FutureWarning: `sparse` was renamed to `sparse_output` in version 1.2 and will be removed in 1.4. `sparse_output` is ignored unless you leave `sparse` to its default value.\n",
      "  warnings.warn(\n"
     ]
    }
   ],
   "source": [
    "y = encoder.fit_transform(y.reshape(-1,1)) "
   ]
  },
  {
   "cell_type": "code",
   "execution_count": 26,
   "id": "363c657b-d514-4361-8fca-329406f6bad0",
   "metadata": {},
   "outputs": [],
   "source": [
    "from sklearn.model_selection import train_test_split as tts\n",
    "xtrain,xtest,ytrain,ytest = tts(x,y,test_size=0.2,random_state=43)"
   ]
  },
  {
   "cell_type": "markdown",
   "id": "48a99958-077b-404e-ab5d-a98f2ff89ca6",
   "metadata": {},
   "source": [
    "<b>Model Creation<b>"
   ]
  },
  {
   "cell_type": "code",
   "execution_count": 27,
   "id": "13f09e05-3318-46cd-b137-c079a8dfb4e2",
   "metadata": {},
   "outputs": [
    {
     "name": "stderr",
     "output_type": "stream",
     "text": [
      "C:\\Users\\msaak\\AppData\\Roaming\\Python\\Python311\\site-packages\\keras\\src\\layers\\core\\dense.py:87: UserWarning: Do not pass an `input_shape`/`input_dim` argument to a layer. When using Sequential models, prefer using an `Input(shape)` object as the first layer in the model instead.\n",
      "  super().__init__(activity_regularizer=activity_regularizer, **kwargs)\n"
     ]
    }
   ],
   "source": [
    "model = keras.Sequential([\n",
    "    keras.layers.Dense(16,activation='relu',input_shape=(4,)),\n",
    "    keras.layers.Dropout(0.3),\n",
    "    keras.layers.Dense(10,activation='relu'),\n",
    "    keras.layers.Dropout(0.2),\n",
    "    keras.layers.Dense(3,activation='softmax')\n",
    "])"
   ]
  },
  {
   "cell_type": "code",
   "execution_count": 28,
   "id": "39703dc6-6457-468c-90d1-3e2d7ab80e0e",
   "metadata": {},
   "outputs": [],
   "source": [
    "model.compile(optimizer='adam',loss=\"categorical_crossentropy\",metrics=[\"accuracy\"])"
   ]
  },
  {
   "cell_type": "markdown",
   "id": "1ceb8389-22d9-44c6-9816-cbe759c35505",
   "metadata": {},
   "source": [
    "<b>Defining Early Stopping condition<b>"
   ]
  },
  {
   "cell_type": "code",
   "execution_count": 29,
   "id": "8c2a4de0-1a80-460e-8eab-d550fca108c6",
   "metadata": {},
   "outputs": [],
   "source": [
    "earlyStopping = keras.callbacks.EarlyStopping(\n",
    "    patience=20,\n",
    "    monitor='val_loss',\n",
    "    restore_best_weights=True,\n",
    ")"
   ]
  },
  {
   "cell_type": "code",
   "execution_count": 30,
   "id": "2647d2f3-7b12-46cb-ba38-11d05d17c3b2",
   "metadata": {},
   "outputs": [
    {
     "name": "stdout",
     "output_type": "stream",
     "text": [
      "Epoch 1/250\n",
      "\u001b[1m3/3\u001b[0m \u001b[32m━━━━━━━━━━━━━━━━━━━━\u001b[0m\u001b[37m\u001b[0m \u001b[1m4s\u001b[0m 424ms/step - accuracy: 0.2956 - loss: 2.6836 - val_accuracy: 0.2917 - val_loss: 2.0413\n",
      "Epoch 2/250\n",
      "\u001b[1m3/3\u001b[0m \u001b[32m━━━━━━━━━━━━━━━━━━━━\u001b[0m\u001b[37m\u001b[0m \u001b[1m1s\u001b[0m 166ms/step - accuracy: 0.2760 - loss: 2.3831 - val_accuracy: 0.2917 - val_loss: 1.8562\n",
      "Epoch 3/250\n",
      "\u001b[1m3/3\u001b[0m \u001b[32m━━━━━━━━━━━━━━━━━━━━\u001b[0m\u001b[37m\u001b[0m \u001b[1m1s\u001b[0m 108ms/step - accuracy: 0.2721 - loss: 2.2040 - val_accuracy: 0.2083 - val_loss: 1.6930\n",
      "Epoch 4/250\n",
      "\u001b[1m3/3\u001b[0m \u001b[32m━━━━━━━━━━━━━━━━━━━━\u001b[0m\u001b[37m\u001b[0m \u001b[1m0s\u001b[0m 113ms/step - accuracy: 0.2474 - loss: 2.0599 - val_accuracy: 0.1250 - val_loss: 1.5550\n",
      "Epoch 5/250\n",
      "\u001b[1m3/3\u001b[0m \u001b[32m━━━━━━━━━━━━━━━━━━━━\u001b[0m\u001b[37m\u001b[0m \u001b[1m0s\u001b[0m 115ms/step - accuracy: 0.2135 - loss: 1.9724 - val_accuracy: 0.0833 - val_loss: 1.4408\n",
      "Epoch 6/250\n",
      "\u001b[1m3/3\u001b[0m \u001b[32m━━━━━━━━━━━━━━━━━━━━\u001b[0m\u001b[37m\u001b[0m \u001b[1m0s\u001b[0m 130ms/step - accuracy: 0.2552 - loss: 1.8692 - val_accuracy: 0.0417 - val_loss: 1.3467\n",
      "Epoch 7/250\n",
      "\u001b[1m3/3\u001b[0m \u001b[32m━━━━━━━━━━━━━━━━━━━━\u001b[0m\u001b[37m\u001b[0m \u001b[1m0s\u001b[0m 149ms/step - accuracy: 0.3034 - loss: 1.8535 - val_accuracy: 0.0417 - val_loss: 1.2700\n",
      "Epoch 8/250\n",
      "\u001b[1m3/3\u001b[0m \u001b[32m━━━━━━━━━━━━━━━━━━━━\u001b[0m\u001b[37m\u001b[0m \u001b[1m0s\u001b[0m 132ms/step - accuracy: 0.3021 - loss: 1.5338 - val_accuracy: 0.2083 - val_loss: 1.2089\n",
      "Epoch 9/250\n",
      "\u001b[1m3/3\u001b[0m \u001b[32m━━━━━━━━━━━━━━━━━━━━\u001b[0m\u001b[37m\u001b[0m \u001b[1m0s\u001b[0m 130ms/step - accuracy: 0.2982 - loss: 1.5082 - val_accuracy: 0.2917 - val_loss: 1.1623\n",
      "Epoch 10/250\n",
      "\u001b[1m3/3\u001b[0m \u001b[32m━━━━━━━━━━━━━━━━━━━━\u001b[0m\u001b[37m\u001b[0m \u001b[1m0s\u001b[0m 109ms/step - accuracy: 0.4180 - loss: 1.3909 - val_accuracy: 0.2917 - val_loss: 1.1260\n",
      "Epoch 11/250\n",
      "\u001b[1m3/3\u001b[0m \u001b[32m━━━━━━━━━━━━━━━━━━━━\u001b[0m\u001b[37m\u001b[0m \u001b[1m0s\u001b[0m 120ms/step - accuracy: 0.4036 - loss: 1.2961 - val_accuracy: 0.3333 - val_loss: 1.0960\n",
      "Epoch 12/250\n",
      "\u001b[1m3/3\u001b[0m \u001b[32m━━━━━━━━━━━━━━━━━━━━\u001b[0m\u001b[37m\u001b[0m \u001b[1m0s\u001b[0m 143ms/step - accuracy: 0.3503 - loss: 1.7152 - val_accuracy: 0.3333 - val_loss: 1.0684\n",
      "Epoch 13/250\n",
      "\u001b[1m3/3\u001b[0m \u001b[32m━━━━━━━━━━━━━━━━━━━━\u001b[0m\u001b[37m\u001b[0m \u001b[1m0s\u001b[0m 111ms/step - accuracy: 0.3763 - loss: 1.3806 - val_accuracy: 0.3333 - val_loss: 1.0473\n",
      "Epoch 14/250\n",
      "\u001b[1m3/3\u001b[0m \u001b[32m━━━━━━━━━━━━━━━━━━━━\u001b[0m\u001b[37m\u001b[0m \u001b[1m0s\u001b[0m 122ms/step - accuracy: 0.2969 - loss: 1.5214 - val_accuracy: 0.3333 - val_loss: 1.0239\n",
      "Epoch 15/250\n",
      "\u001b[1m3/3\u001b[0m \u001b[32m━━━━━━━━━━━━━━━━━━━━\u001b[0m\u001b[37m\u001b[0m \u001b[1m0s\u001b[0m 109ms/step - accuracy: 0.2878 - loss: 1.4225 - val_accuracy: 0.3333 - val_loss: 1.0006\n",
      "Epoch 16/250\n",
      "\u001b[1m3/3\u001b[0m \u001b[32m━━━━━━━━━━━━━━━━━━━━\u001b[0m\u001b[37m\u001b[0m \u001b[1m0s\u001b[0m 136ms/step - accuracy: 0.4323 - loss: 1.1783 - val_accuracy: 0.4167 - val_loss: 0.9761\n",
      "Epoch 17/250\n",
      "\u001b[1m3/3\u001b[0m \u001b[32m━━━━━━━━━━━━━━━━━━━━\u001b[0m\u001b[37m\u001b[0m \u001b[1m0s\u001b[0m 147ms/step - accuracy: 0.3555 - loss: 1.2920 - val_accuracy: 0.4167 - val_loss: 0.9537\n",
      "Epoch 18/250\n",
      "\u001b[1m3/3\u001b[0m \u001b[32m━━━━━━━━━━━━━━━━━━━━\u001b[0m\u001b[37m\u001b[0m \u001b[1m1s\u001b[0m 145ms/step - accuracy: 0.3346 - loss: 1.4878 - val_accuracy: 0.4167 - val_loss: 0.9323\n",
      "Epoch 19/250\n",
      "\u001b[1m3/3\u001b[0m \u001b[32m━━━━━━━━━━━━━━━━━━━━\u001b[0m\u001b[37m\u001b[0m \u001b[1m0s\u001b[0m 129ms/step - accuracy: 0.3789 - loss: 1.5293 - val_accuracy: 0.4583 - val_loss: 0.9104\n",
      "Epoch 20/250\n",
      "\u001b[1m3/3\u001b[0m \u001b[32m━━━━━━━━━━━━━━━━━━━━\u001b[0m\u001b[37m\u001b[0m \u001b[1m0s\u001b[0m 119ms/step - accuracy: 0.4219 - loss: 1.2507 - val_accuracy: 0.5833 - val_loss: 0.8931\n",
      "Epoch 21/250\n",
      "\u001b[1m3/3\u001b[0m \u001b[32m━━━━━━━━━━━━━━━━━━━━\u001b[0m\u001b[37m\u001b[0m \u001b[1m0s\u001b[0m 116ms/step - accuracy: 0.4505 - loss: 1.0918 - val_accuracy: 0.5833 - val_loss: 0.8790\n",
      "Epoch 22/250\n",
      "\u001b[1m3/3\u001b[0m \u001b[32m━━━━━━━━━━━━━━━━━━━━\u001b[0m\u001b[37m\u001b[0m \u001b[1m0s\u001b[0m 148ms/step - accuracy: 0.3203 - loss: 1.4171 - val_accuracy: 0.5833 - val_loss: 0.8656\n",
      "Epoch 23/250\n",
      "\u001b[1m3/3\u001b[0m \u001b[32m━━━━━━━━━━━━━━━━━━━━\u001b[0m\u001b[37m\u001b[0m \u001b[1m0s\u001b[0m 116ms/step - accuracy: 0.4388 - loss: 1.1595 - val_accuracy: 0.5833 - val_loss: 0.8543\n",
      "Epoch 24/250\n",
      "\u001b[1m3/3\u001b[0m \u001b[32m━━━━━━━━━━━━━━━━━━━━\u001b[0m\u001b[37m\u001b[0m \u001b[1m0s\u001b[0m 134ms/step - accuracy: 0.4062 - loss: 1.1499 - val_accuracy: 0.5833 - val_loss: 0.8442\n",
      "Epoch 25/250\n",
      "\u001b[1m3/3\u001b[0m \u001b[32m━━━━━━━━━━━━━━━━━━━━\u001b[0m\u001b[37m\u001b[0m \u001b[1m0s\u001b[0m 135ms/step - accuracy: 0.2578 - loss: 1.1635 - val_accuracy: 0.5833 - val_loss: 0.8328\n",
      "Epoch 26/250\n",
      "\u001b[1m3/3\u001b[0m \u001b[32m━━━━━━━━━━━━━━━━━━━━\u001b[0m\u001b[37m\u001b[0m \u001b[1m0s\u001b[0m 127ms/step - accuracy: 0.4466 - loss: 1.1861 - val_accuracy: 0.5833 - val_loss: 0.8230\n",
      "Epoch 27/250\n",
      "\u001b[1m3/3\u001b[0m \u001b[32m━━━━━━━━━━━━━━━━━━━━\u001b[0m\u001b[37m\u001b[0m \u001b[1m0s\u001b[0m 111ms/step - accuracy: 0.4883 - loss: 1.0907 - val_accuracy: 0.5833 - val_loss: 0.8139\n",
      "Epoch 28/250\n",
      "\u001b[1m3/3\u001b[0m \u001b[32m━━━━━━━━━━━━━━━━━━━━\u001b[0m\u001b[37m\u001b[0m \u001b[1m0s\u001b[0m 129ms/step - accuracy: 0.3685 - loss: 1.1118 - val_accuracy: 0.5833 - val_loss: 0.8046\n",
      "Epoch 29/250\n",
      "\u001b[1m3/3\u001b[0m \u001b[32m━━━━━━━━━━━━━━━━━━━━\u001b[0m\u001b[37m\u001b[0m \u001b[1m0s\u001b[0m 167ms/step - accuracy: 0.4714 - loss: 1.0199 - val_accuracy: 0.5833 - val_loss: 0.7951\n",
      "Epoch 30/250\n",
      "\u001b[1m3/3\u001b[0m \u001b[32m━━━━━━━━━━━━━━━━━━━━\u001b[0m\u001b[37m\u001b[0m \u001b[1m0s\u001b[0m 160ms/step - accuracy: 0.4388 - loss: 1.0062 - val_accuracy: 0.5833 - val_loss: 0.7851\n",
      "Epoch 31/250\n",
      "\u001b[1m3/3\u001b[0m \u001b[32m━━━━━━━━━━━━━━━━━━━━\u001b[0m\u001b[37m\u001b[0m \u001b[1m1s\u001b[0m 135ms/step - accuracy: 0.4518 - loss: 1.0257 - val_accuracy: 0.5833 - val_loss: 0.7771\n",
      "Epoch 32/250\n",
      "\u001b[1m3/3\u001b[0m \u001b[32m━━━━━━━━━━━━━━━━━━━━\u001b[0m\u001b[37m\u001b[0m \u001b[1m0s\u001b[0m 119ms/step - accuracy: 0.4596 - loss: 1.0502 - val_accuracy: 0.5833 - val_loss: 0.7687\n",
      "Epoch 33/250\n",
      "\u001b[1m3/3\u001b[0m \u001b[32m━━━━━━━━━━━━━━━━━━━━\u001b[0m\u001b[37m\u001b[0m \u001b[1m0s\u001b[0m 126ms/step - accuracy: 0.4622 - loss: 1.0054 - val_accuracy: 0.5833 - val_loss: 0.7603\n",
      "Epoch 34/250\n",
      "\u001b[1m3/3\u001b[0m \u001b[32m━━━━━━━━━━━━━━━━━━━━\u001b[0m\u001b[37m\u001b[0m \u001b[1m0s\u001b[0m 125ms/step - accuracy: 0.4492 - loss: 0.9781 - val_accuracy: 0.5833 - val_loss: 0.7521\n",
      "Epoch 35/250\n",
      "\u001b[1m3/3\u001b[0m \u001b[32m━━━━━━━━━━━━━━━━━━━━\u001b[0m\u001b[37m\u001b[0m \u001b[1m0s\u001b[0m 129ms/step - accuracy: 0.5026 - loss: 0.9444 - val_accuracy: 0.5833 - val_loss: 0.7449\n",
      "Epoch 36/250\n",
      "\u001b[1m3/3\u001b[0m \u001b[32m━━━━━━━━━━━━━━━━━━━━\u001b[0m\u001b[37m\u001b[0m \u001b[1m0s\u001b[0m 133ms/step - accuracy: 0.4362 - loss: 1.1176 - val_accuracy: 0.5833 - val_loss: 0.7367\n",
      "Epoch 37/250\n",
      "\u001b[1m3/3\u001b[0m \u001b[32m━━━━━━━━━━━━━━━━━━━━\u001b[0m\u001b[37m\u001b[0m \u001b[1m0s\u001b[0m 135ms/step - accuracy: 0.5221 - loss: 0.9554 - val_accuracy: 0.5833 - val_loss: 0.7287\n",
      "Epoch 38/250\n",
      "\u001b[1m3/3\u001b[0m \u001b[32m━━━━━━━━━━━━━━━━━━━━\u001b[0m\u001b[37m\u001b[0m \u001b[1m0s\u001b[0m 132ms/step - accuracy: 0.5208 - loss: 0.9603 - val_accuracy: 0.5833 - val_loss: 0.7209\n",
      "Epoch 39/250\n",
      "\u001b[1m3/3\u001b[0m \u001b[32m━━━━━━━━━━━━━━━━━━━━\u001b[0m\u001b[37m\u001b[0m \u001b[1m0s\u001b[0m 145ms/step - accuracy: 0.4844 - loss: 1.0535 - val_accuracy: 0.5833 - val_loss: 0.7136\n",
      "Epoch 40/250\n",
      "\u001b[1m3/3\u001b[0m \u001b[32m━━━━━━━━━━━━━━━━━━━━\u001b[0m\u001b[37m\u001b[0m \u001b[1m0s\u001b[0m 164ms/step - accuracy: 0.4388 - loss: 1.1173 - val_accuracy: 0.5833 - val_loss: 0.7071\n",
      "Epoch 41/250\n",
      "\u001b[1m3/3\u001b[0m \u001b[32m━━━━━━━━━━━━━━━━━━━━\u001b[0m\u001b[37m\u001b[0m \u001b[1m1s\u001b[0m 122ms/step - accuracy: 0.4688 - loss: 0.9925 - val_accuracy: 0.5833 - val_loss: 0.6999\n",
      "Epoch 42/250\n",
      "\u001b[1m3/3\u001b[0m \u001b[32m━━━━━━━━━━━━━━━━━━━━\u001b[0m\u001b[37m\u001b[0m \u001b[1m0s\u001b[0m 108ms/step - accuracy: 0.3659 - loss: 0.9117 - val_accuracy: 0.5833 - val_loss: 0.6933\n",
      "Epoch 43/250\n",
      "\u001b[1m3/3\u001b[0m \u001b[32m━━━━━━━━━━━━━━━━━━━━\u001b[0m\u001b[37m\u001b[0m \u001b[1m0s\u001b[0m 122ms/step - accuracy: 0.5872 - loss: 0.8045 - val_accuracy: 0.5833 - val_loss: 0.6872\n",
      "Epoch 44/250\n",
      "\u001b[1m3/3\u001b[0m \u001b[32m━━━━━━━━━━━━━━━━━━━━\u001b[0m\u001b[37m\u001b[0m \u001b[1m0s\u001b[0m 130ms/step - accuracy: 0.5169 - loss: 0.7872 - val_accuracy: 0.5833 - val_loss: 0.6808\n",
      "Epoch 45/250\n",
      "\u001b[1m3/3\u001b[0m \u001b[32m━━━━━━━━━━━━━━━━━━━━\u001b[0m\u001b[37m\u001b[0m \u001b[1m0s\u001b[0m 133ms/step - accuracy: 0.4466 - loss: 0.9409 - val_accuracy: 0.5833 - val_loss: 0.6757\n",
      "Epoch 46/250\n",
      "\u001b[1m3/3\u001b[0m \u001b[32m━━━━━━━━━━━━━━━━━━━━\u001b[0m\u001b[37m\u001b[0m \u001b[1m0s\u001b[0m 130ms/step - accuracy: 0.5703 - loss: 0.8456 - val_accuracy: 0.5833 - val_loss: 0.6709\n",
      "Epoch 47/250\n",
      "\u001b[1m3/3\u001b[0m \u001b[32m━━━━━━━━━━━━━━━━━━━━\u001b[0m\u001b[37m\u001b[0m \u001b[1m0s\u001b[0m 106ms/step - accuracy: 0.5859 - loss: 0.8272 - val_accuracy: 0.5833 - val_loss: 0.6665\n",
      "Epoch 48/250\n",
      "\u001b[1m3/3\u001b[0m \u001b[32m━━━━━━━━━━━━━━━━━━━━\u001b[0m\u001b[37m\u001b[0m \u001b[1m0s\u001b[0m 106ms/step - accuracy: 0.5130 - loss: 0.8548 - val_accuracy: 0.5833 - val_loss: 0.6618\n",
      "Epoch 49/250\n",
      "\u001b[1m3/3\u001b[0m \u001b[32m━━━━━━━━━━━━━━━━━━━━\u001b[0m\u001b[37m\u001b[0m \u001b[1m0s\u001b[0m 111ms/step - accuracy: 0.4115 - loss: 0.9055 - val_accuracy: 0.5833 - val_loss: 0.6568\n",
      "Epoch 50/250\n",
      "\u001b[1m3/3\u001b[0m \u001b[32m━━━━━━━━━━━━━━━━━━━━\u001b[0m\u001b[37m\u001b[0m \u001b[1m0s\u001b[0m 101ms/step - accuracy: 0.5990 - loss: 0.8601 - val_accuracy: 0.5833 - val_loss: 0.6534\n",
      "Epoch 51/250\n",
      "\u001b[1m3/3\u001b[0m \u001b[32m━━━━━━━━━━━━━━━━━━━━\u001b[0m\u001b[37m\u001b[0m \u001b[1m0s\u001b[0m 154ms/step - accuracy: 0.5039 - loss: 0.9149 - val_accuracy: 0.5833 - val_loss: 0.6499\n",
      "Epoch 52/250\n",
      "\u001b[1m3/3\u001b[0m \u001b[32m━━━━━━━━━━━━━━━━━━━━\u001b[0m\u001b[37m\u001b[0m \u001b[1m0s\u001b[0m 154ms/step - accuracy: 0.5664 - loss: 0.7934 - val_accuracy: 0.5833 - val_loss: 0.6462\n",
      "Epoch 53/250\n",
      "\u001b[1m3/3\u001b[0m \u001b[32m━━━━━━━━━━━━━━━━━━━━\u001b[0m\u001b[37m\u001b[0m \u001b[1m0s\u001b[0m 157ms/step - accuracy: 0.5391 - loss: 0.8346 - val_accuracy: 0.5833 - val_loss: 0.6416\n",
      "Epoch 54/250\n",
      "\u001b[1m3/3\u001b[0m \u001b[32m━━━━━━━━━━━━━━━━━━━━\u001b[0m\u001b[37m\u001b[0m \u001b[1m1s\u001b[0m 154ms/step - accuracy: 0.5599 - loss: 0.7955 - val_accuracy: 0.5833 - val_loss: 0.6370\n",
      "Epoch 55/250\n",
      "\u001b[1m3/3\u001b[0m \u001b[32m━━━━━━━━━━━━━━━━━━━━\u001b[0m\u001b[37m\u001b[0m \u001b[1m1s\u001b[0m 181ms/step - accuracy: 0.5156 - loss: 0.8453 - val_accuracy: 0.5833 - val_loss: 0.6317\n",
      "Epoch 56/250\n",
      "\u001b[1m3/3\u001b[0m \u001b[32m━━━━━━━━━━━━━━━━━━━━\u001b[0m\u001b[37m\u001b[0m \u001b[1m1s\u001b[0m 167ms/step - accuracy: 0.5273 - loss: 0.8143 - val_accuracy: 0.5833 - val_loss: 0.6271\n",
      "Epoch 57/250\n",
      "\u001b[1m3/3\u001b[0m \u001b[32m━━━━━━━━━━━━━━━━━━━━\u001b[0m\u001b[37m\u001b[0m \u001b[1m0s\u001b[0m 159ms/step - accuracy: 0.4922 - loss: 0.8485 - val_accuracy: 0.5833 - val_loss: 0.6230\n",
      "Epoch 58/250\n",
      "\u001b[1m3/3\u001b[0m \u001b[32m━━━━━━━━━━━━━━━━━━━━\u001b[0m\u001b[37m\u001b[0m \u001b[1m0s\u001b[0m 171ms/step - accuracy: 0.5625 - loss: 0.7591 - val_accuracy: 0.5833 - val_loss: 0.6188\n",
      "Epoch 59/250\n",
      "\u001b[1m3/3\u001b[0m \u001b[32m━━━━━━━━━━━━━━━━━━━━\u001b[0m\u001b[37m\u001b[0m \u001b[1m0s\u001b[0m 162ms/step - accuracy: 0.4896 - loss: 0.9352 - val_accuracy: 0.5833 - val_loss: 0.6141\n",
      "Epoch 60/250\n",
      "\u001b[1m3/3\u001b[0m \u001b[32m━━━━━━━━━━━━━━━━━━━━\u001b[0m\u001b[37m\u001b[0m \u001b[1m1s\u001b[0m 129ms/step - accuracy: 0.6979 - loss: 0.7564 - val_accuracy: 0.5833 - val_loss: 0.6090\n",
      "Epoch 61/250\n",
      "\u001b[1m3/3\u001b[0m \u001b[32m━━━━━━━━━━━━━━━━━━━━\u001b[0m\u001b[37m\u001b[0m \u001b[1m0s\u001b[0m 127ms/step - accuracy: 0.6198 - loss: 0.7642 - val_accuracy: 0.5833 - val_loss: 0.6047\n",
      "Epoch 62/250\n",
      "\u001b[1m3/3\u001b[0m \u001b[32m━━━━━━━━━━━━━━━━━━━━\u001b[0m\u001b[37m\u001b[0m \u001b[1m0s\u001b[0m 115ms/step - accuracy: 0.5378 - loss: 0.7557 - val_accuracy: 0.5833 - val_loss: 0.6006\n",
      "Epoch 63/250\n",
      "\u001b[1m3/3\u001b[0m \u001b[32m━━━━━━━━━━━━━━━━━━━━\u001b[0m\u001b[37m\u001b[0m \u001b[1m0s\u001b[0m 125ms/step - accuracy: 0.5664 - loss: 0.8071 - val_accuracy: 0.5833 - val_loss: 0.5966\n",
      "Epoch 64/250\n",
      "\u001b[1m3/3\u001b[0m \u001b[32m━━━━━━━━━━━━━━━━━━━━\u001b[0m\u001b[37m\u001b[0m \u001b[1m0s\u001b[0m 150ms/step - accuracy: 0.5846 - loss: 0.7677 - val_accuracy: 0.5833 - val_loss: 0.5927\n",
      "Epoch 65/250\n",
      "\u001b[1m3/3\u001b[0m \u001b[32m━━━━━━━━━━━━━━━━━━━━\u001b[0m\u001b[37m\u001b[0m \u001b[1m0s\u001b[0m 139ms/step - accuracy: 0.6419 - loss: 0.7191 - val_accuracy: 0.5833 - val_loss: 0.5888\n",
      "Epoch 66/250\n",
      "\u001b[1m3/3\u001b[0m \u001b[32m━━━━━━━━━━━━━━━━━━━━\u001b[0m\u001b[37m\u001b[0m \u001b[1m0s\u001b[0m 133ms/step - accuracy: 0.5638 - loss: 0.8994 - val_accuracy: 0.5833 - val_loss: 0.5851\n",
      "Epoch 67/250\n",
      "\u001b[1m3/3\u001b[0m \u001b[32m━━━━━━━━━━━━━━━━━━━━\u001b[0m\u001b[37m\u001b[0m \u001b[1m0s\u001b[0m 162ms/step - accuracy: 0.5443 - loss: 0.7482 - val_accuracy: 0.5833 - val_loss: 0.5818\n",
      "Epoch 68/250\n",
      "\u001b[1m3/3\u001b[0m \u001b[32m━━━━━━━━━━━━━━━━━━━━\u001b[0m\u001b[37m\u001b[0m \u001b[1m0s\u001b[0m 162ms/step - accuracy: 0.5664 - loss: 0.7747 - val_accuracy: 0.5833 - val_loss: 0.5786\n",
      "Epoch 69/250\n",
      "\u001b[1m3/3\u001b[0m \u001b[32m━━━━━━━━━━━━━━━━━━━━\u001b[0m\u001b[37m\u001b[0m \u001b[1m0s\u001b[0m 167ms/step - accuracy: 0.6016 - loss: 0.6904 - val_accuracy: 0.5833 - val_loss: 0.5763\n",
      "Epoch 70/250\n",
      "\u001b[1m3/3\u001b[0m \u001b[32m━━━━━━━━━━━━━━━━━━━━\u001b[0m\u001b[37m\u001b[0m \u001b[1m0s\u001b[0m 164ms/step - accuracy: 0.5859 - loss: 0.7488 - val_accuracy: 0.5833 - val_loss: 0.5745\n",
      "Epoch 71/250\n",
      "\u001b[1m3/3\u001b[0m \u001b[32m━━━━━━━━━━━━━━━━━━━━\u001b[0m\u001b[37m\u001b[0m \u001b[1m0s\u001b[0m 155ms/step - accuracy: 0.5208 - loss: 0.8369 - val_accuracy: 0.5833 - val_loss: 0.5725\n",
      "Epoch 72/250\n",
      "\u001b[1m3/3\u001b[0m \u001b[32m━━━━━━━━━━━━━━━━━━━━\u001b[0m\u001b[37m\u001b[0m \u001b[1m0s\u001b[0m 173ms/step - accuracy: 0.5208 - loss: 0.8061 - val_accuracy: 0.5833 - val_loss: 0.5705\n",
      "Epoch 73/250\n",
      "\u001b[1m3/3\u001b[0m \u001b[32m━━━━━━━━━━━━━━━━━━━━\u001b[0m\u001b[37m\u001b[0m \u001b[1m0s\u001b[0m 168ms/step - accuracy: 0.5573 - loss: 0.7229 - val_accuracy: 0.5833 - val_loss: 0.5684\n",
      "Epoch 74/250\n",
      "\u001b[1m3/3\u001b[0m \u001b[32m━━━━━━━━━━━━━━━━━━━━\u001b[0m\u001b[37m\u001b[0m \u001b[1m0s\u001b[0m 157ms/step - accuracy: 0.6315 - loss: 0.7237 - val_accuracy: 0.5833 - val_loss: 0.5663\n",
      "Epoch 75/250\n",
      "\u001b[1m3/3\u001b[0m \u001b[32m━━━━━━━━━━━━━━━━━━━━\u001b[0m\u001b[37m\u001b[0m \u001b[1m0s\u001b[0m 160ms/step - accuracy: 0.5885 - loss: 0.7381 - val_accuracy: 0.5833 - val_loss: 0.5647\n",
      "Epoch 76/250\n",
      "\u001b[1m3/3\u001b[0m \u001b[32m━━━━━━━━━━━━━━━━━━━━\u001b[0m\u001b[37m\u001b[0m \u001b[1m0s\u001b[0m 149ms/step - accuracy: 0.6328 - loss: 0.7509 - val_accuracy: 0.5833 - val_loss: 0.5632\n",
      "Epoch 77/250\n",
      "\u001b[1m3/3\u001b[0m \u001b[32m━━━━━━━━━━━━━━━━━━━━\u001b[0m\u001b[37m\u001b[0m \u001b[1m0s\u001b[0m 168ms/step - accuracy: 0.6224 - loss: 0.6972 - val_accuracy: 0.5833 - val_loss: 0.5610\n",
      "Epoch 78/250\n",
      "\u001b[1m3/3\u001b[0m \u001b[32m━━━━━━━━━━━━━━━━━━━━\u001b[0m\u001b[37m\u001b[0m \u001b[1m0s\u001b[0m 168ms/step - accuracy: 0.6367 - loss: 0.6397 - val_accuracy: 0.5833 - val_loss: 0.5592\n",
      "Epoch 79/250\n",
      "\u001b[1m3/3\u001b[0m \u001b[32m━━━━━━━━━━━━━━━━━━━━\u001b[0m\u001b[37m\u001b[0m \u001b[1m0s\u001b[0m 188ms/step - accuracy: 0.4935 - loss: 0.7219 - val_accuracy: 0.5833 - val_loss: 0.5577\n",
      "Epoch 80/250\n",
      "\u001b[1m3/3\u001b[0m \u001b[32m━━━━━━━━━━━━━━━━━━━━\u001b[0m\u001b[37m\u001b[0m \u001b[1m0s\u001b[0m 192ms/step - accuracy: 0.5417 - loss: 0.7407 - val_accuracy: 0.5833 - val_loss: 0.5560\n",
      "Epoch 81/250\n",
      "\u001b[1m3/3\u001b[0m \u001b[32m━━━━━━━━━━━━━━━━━━━━\u001b[0m\u001b[37m\u001b[0m \u001b[1m0s\u001b[0m 183ms/step - accuracy: 0.5260 - loss: 0.7159 - val_accuracy: 0.5833 - val_loss: 0.5541\n",
      "Epoch 82/250\n",
      "\u001b[1m3/3\u001b[0m \u001b[32m━━━━━━━━━━━━━━━━━━━━\u001b[0m\u001b[37m\u001b[0m \u001b[1m1s\u001b[0m 100ms/step - accuracy: 0.6198 - loss: 0.6646 - val_accuracy: 0.5833 - val_loss: 0.5527\n",
      "Epoch 83/250\n",
      "\u001b[1m3/3\u001b[0m \u001b[32m━━━━━━━━━━━━━━━━━━━━\u001b[0m\u001b[37m\u001b[0m \u001b[1m1s\u001b[0m 241ms/step - accuracy: 0.5208 - loss: 0.7949 - val_accuracy: 0.5833 - val_loss: 0.5512\n",
      "Epoch 84/250\n",
      "\u001b[1m3/3\u001b[0m \u001b[32m━━━━━━━━━━━━━━━━━━━━\u001b[0m\u001b[37m\u001b[0m \u001b[1m1s\u001b[0m 265ms/step - accuracy: 0.6497 - loss: 0.6607 - val_accuracy: 0.5833 - val_loss: 0.5498\n",
      "Epoch 85/250\n",
      "\u001b[1m3/3\u001b[0m \u001b[32m━━━━━━━━━━━━━━━━━━━━\u001b[0m\u001b[37m\u001b[0m \u001b[1m1s\u001b[0m 165ms/step - accuracy: 0.5911 - loss: 0.6436 - val_accuracy: 0.5833 - val_loss: 0.5485\n",
      "Epoch 86/250\n",
      "\u001b[1m3/3\u001b[0m \u001b[32m━━━━━━━━━━━━━━━━━━━━\u001b[0m\u001b[37m\u001b[0m \u001b[1m1s\u001b[0m 200ms/step - accuracy: 0.6094 - loss: 0.7162 - val_accuracy: 0.5833 - val_loss: 0.5465\n",
      "Epoch 87/250\n",
      "\u001b[1m3/3\u001b[0m \u001b[32m━━━━━━━━━━━━━━━━━━━━\u001b[0m\u001b[37m\u001b[0m \u001b[1m0s\u001b[0m 122ms/step - accuracy: 0.6328 - loss: 0.7147 - val_accuracy: 0.5833 - val_loss: 0.5450\n",
      "Epoch 88/250\n",
      "\u001b[1m3/3\u001b[0m \u001b[32m━━━━━━━━━━━━━━━━━━━━\u001b[0m\u001b[37m\u001b[0m \u001b[1m0s\u001b[0m 160ms/step - accuracy: 0.5755 - loss: 0.7080 - val_accuracy: 0.5833 - val_loss: 0.5436\n",
      "Epoch 89/250\n",
      "\u001b[1m3/3\u001b[0m \u001b[32m━━━━━━━━━━━━━━━━━━━━\u001b[0m\u001b[37m\u001b[0m \u001b[1m1s\u001b[0m 148ms/step - accuracy: 0.6354 - loss: 0.6141 - val_accuracy: 0.5833 - val_loss: 0.5416\n",
      "Epoch 90/250\n",
      "\u001b[1m3/3\u001b[0m \u001b[32m━━━━━━━━━━━━━━━━━━━━\u001b[0m\u001b[37m\u001b[0m \u001b[1m0s\u001b[0m 121ms/step - accuracy: 0.6497 - loss: 0.7507 - val_accuracy: 0.5833 - val_loss: 0.5394\n",
      "Epoch 91/250\n",
      "\u001b[1m3/3\u001b[0m \u001b[32m━━━━━━━━━━━━━━━━━━━━\u001b[0m\u001b[37m\u001b[0m \u001b[1m0s\u001b[0m 113ms/step - accuracy: 0.5781 - loss: 0.6472 - val_accuracy: 0.5833 - val_loss: 0.5375\n",
      "Epoch 92/250\n",
      "\u001b[1m3/3\u001b[0m \u001b[32m━━━━━━━━━━━━━━━━━━━━\u001b[0m\u001b[37m\u001b[0m \u001b[1m0s\u001b[0m 110ms/step - accuracy: 0.6758 - loss: 0.6502 - val_accuracy: 0.5833 - val_loss: 0.5358\n",
      "Epoch 93/250\n",
      "\u001b[1m3/3\u001b[0m \u001b[32m━━━━━━━━━━━━━━━━━━━━\u001b[0m\u001b[37m\u001b[0m \u001b[1m0s\u001b[0m 113ms/step - accuracy: 0.6641 - loss: 0.6233 - val_accuracy: 0.5833 - val_loss: 0.5345\n",
      "Epoch 94/250\n",
      "\u001b[1m3/3\u001b[0m \u001b[32m━━━━━━━━━━━━━━━━━━━━\u001b[0m\u001b[37m\u001b[0m \u001b[1m0s\u001b[0m 117ms/step - accuracy: 0.5052 - loss: 0.7792 - val_accuracy: 0.5833 - val_loss: 0.5334\n",
      "Epoch 95/250\n",
      "\u001b[1m3/3\u001b[0m \u001b[32m━━━━━━━━━━━━━━━━━━━━\u001b[0m\u001b[37m\u001b[0m \u001b[1m0s\u001b[0m 120ms/step - accuracy: 0.5716 - loss: 0.6755 - val_accuracy: 0.5833 - val_loss: 0.5326\n",
      "Epoch 96/250\n",
      "\u001b[1m3/3\u001b[0m \u001b[32m━━━━━━━━━━━━━━━━━━━━\u001b[0m\u001b[37m\u001b[0m \u001b[1m0s\u001b[0m 120ms/step - accuracy: 0.5339 - loss: 0.7217 - val_accuracy: 0.5833 - val_loss: 0.5314\n",
      "Epoch 97/250\n",
      "\u001b[1m3/3\u001b[0m \u001b[32m━━━━━━━━━━━━━━━━━━━━\u001b[0m\u001b[37m\u001b[0m \u001b[1m0s\u001b[0m 151ms/step - accuracy: 0.6133 - loss: 0.6936 - val_accuracy: 0.5833 - val_loss: 0.5307\n",
      "Epoch 98/250\n",
      "\u001b[1m3/3\u001b[0m \u001b[32m━━━━━━━━━━━━━━━━━━━━\u001b[0m\u001b[37m\u001b[0m \u001b[1m1s\u001b[0m 115ms/step - accuracy: 0.5638 - loss: 0.6916 - val_accuracy: 0.5833 - val_loss: 0.5297\n",
      "Epoch 99/250\n",
      "\u001b[1m3/3\u001b[0m \u001b[32m━━━━━━━━━━━━━━━━━━━━\u001b[0m\u001b[37m\u001b[0m \u001b[1m0s\u001b[0m 119ms/step - accuracy: 0.6654 - loss: 0.6239 - val_accuracy: 0.5833 - val_loss: 0.5286\n",
      "Epoch 100/250\n",
      "\u001b[1m3/3\u001b[0m \u001b[32m━━━━━━━━━━━━━━━━━━━━\u001b[0m\u001b[37m\u001b[0m \u001b[1m0s\u001b[0m 132ms/step - accuracy: 0.7383 - loss: 0.5757 - val_accuracy: 0.5833 - val_loss: 0.5277\n",
      "Epoch 101/250\n",
      "\u001b[1m3/3\u001b[0m \u001b[32m━━━━━━━━━━━━━━━━━━━━\u001b[0m\u001b[37m\u001b[0m \u001b[1m0s\u001b[0m 124ms/step - accuracy: 0.5885 - loss: 0.7047 - val_accuracy: 0.5833 - val_loss: 0.5265\n",
      "Epoch 102/250\n",
      "\u001b[1m3/3\u001b[0m \u001b[32m━━━━━━━━━━━━━━━━━━━━\u001b[0m\u001b[37m\u001b[0m \u001b[1m0s\u001b[0m 107ms/step - accuracy: 0.5234 - loss: 0.6761 - val_accuracy: 0.5833 - val_loss: 0.5250\n",
      "Epoch 103/250\n",
      "\u001b[1m3/3\u001b[0m \u001b[32m━━━━━━━━━━━━━━━━━━━━\u001b[0m\u001b[37m\u001b[0m \u001b[1m0s\u001b[0m 128ms/step - accuracy: 0.6328 - loss: 0.6186 - val_accuracy: 0.5833 - val_loss: 0.5236\n",
      "Epoch 104/250\n",
      "\u001b[1m3/3\u001b[0m \u001b[32m━━━━━━━━━━━━━━━━━━━━\u001b[0m\u001b[37m\u001b[0m \u001b[1m0s\u001b[0m 120ms/step - accuracy: 0.6263 - loss: 0.5549 - val_accuracy: 0.5833 - val_loss: 0.5222\n",
      "Epoch 105/250\n",
      "\u001b[1m3/3\u001b[0m \u001b[32m━━━━━━━━━━━━━━━━━━━━\u001b[0m\u001b[37m\u001b[0m \u001b[1m0s\u001b[0m 120ms/step - accuracy: 0.6172 - loss: 0.6138 - val_accuracy: 0.5833 - val_loss: 0.5209\n",
      "Epoch 106/250\n",
      "\u001b[1m3/3\u001b[0m \u001b[32m━━━━━━━━━━━━━━━━━━━━\u001b[0m\u001b[37m\u001b[0m \u001b[1m0s\u001b[0m 137ms/step - accuracy: 0.6029 - loss: 0.6970 - val_accuracy: 0.5833 - val_loss: 0.5204\n",
      "Epoch 107/250\n",
      "\u001b[1m3/3\u001b[0m \u001b[32m━━━━━━━━━━━━━━━━━━━━\u001b[0m\u001b[37m\u001b[0m \u001b[1m1s\u001b[0m 125ms/step - accuracy: 0.6523 - loss: 0.6517 - val_accuracy: 0.5833 - val_loss: 0.5195\n",
      "Epoch 108/250\n",
      "\u001b[1m3/3\u001b[0m \u001b[32m━━━━━━━━━━━━━━━━━━━━\u001b[0m\u001b[37m\u001b[0m \u001b[1m0s\u001b[0m 126ms/step - accuracy: 0.6224 - loss: 0.6655 - val_accuracy: 0.5833 - val_loss: 0.5187\n",
      "Epoch 109/250\n",
      "\u001b[1m3/3\u001b[0m \u001b[32m━━━━━━━━━━━━━━━━━━━━\u001b[0m\u001b[37m\u001b[0m \u001b[1m0s\u001b[0m 120ms/step - accuracy: 0.6276 - loss: 0.6311 - val_accuracy: 0.5833 - val_loss: 0.5178\n",
      "Epoch 110/250\n",
      "\u001b[1m3/3\u001b[0m \u001b[32m━━━━━━━━━━━━━━━━━━━━\u001b[0m\u001b[37m\u001b[0m \u001b[1m0s\u001b[0m 116ms/step - accuracy: 0.5742 - loss: 0.6462 - val_accuracy: 0.5833 - val_loss: 0.5169\n",
      "Epoch 111/250\n",
      "\u001b[1m3/3\u001b[0m \u001b[32m━━━━━━━━━━━━━━━━━━━━\u001b[0m\u001b[37m\u001b[0m \u001b[1m0s\u001b[0m 120ms/step - accuracy: 0.6471 - loss: 0.6150 - val_accuracy: 0.5833 - val_loss: 0.5159\n",
      "Epoch 112/250\n",
      "\u001b[1m3/3\u001b[0m \u001b[32m━━━━━━━━━━━━━━━━━━━━\u001b[0m\u001b[37m\u001b[0m \u001b[1m0s\u001b[0m 121ms/step - accuracy: 0.5911 - loss: 0.6993 - val_accuracy: 0.5833 - val_loss: 0.5151\n",
      "Epoch 113/250\n",
      "\u001b[1m3/3\u001b[0m \u001b[32m━━━━━━━━━━━━━━━━━━━━\u001b[0m\u001b[37m\u001b[0m \u001b[1m0s\u001b[0m 134ms/step - accuracy: 0.6680 - loss: 0.6502 - val_accuracy: 0.5833 - val_loss: 0.5146\n",
      "Epoch 114/250\n",
      "\u001b[1m3/3\u001b[0m \u001b[32m━━━━━━━━━━━━━━━━━━━━\u001b[0m\u001b[37m\u001b[0m \u001b[1m0s\u001b[0m 108ms/step - accuracy: 0.6953 - loss: 0.5981 - val_accuracy: 0.5833 - val_loss: 0.5140\n",
      "Epoch 115/250\n",
      "\u001b[1m3/3\u001b[0m \u001b[32m━━━━━━━━━━━━━━━━━━━━\u001b[0m\u001b[37m\u001b[0m \u001b[1m0s\u001b[0m 115ms/step - accuracy: 0.6471 - loss: 0.5975 - val_accuracy: 0.5833 - val_loss: 0.5133\n",
      "Epoch 116/250\n",
      "\u001b[1m3/3\u001b[0m \u001b[32m━━━━━━━━━━━━━━━━━━━━\u001b[0m\u001b[37m\u001b[0m \u001b[1m0s\u001b[0m 185ms/step - accuracy: 0.6081 - loss: 0.6435 - val_accuracy: 0.5833 - val_loss: 0.5125\n",
      "Epoch 117/250\n",
      "\u001b[1m3/3\u001b[0m \u001b[32m━━━━━━━━━━━━━━━━━━━━\u001b[0m\u001b[37m\u001b[0m \u001b[1m0s\u001b[0m 123ms/step - accuracy: 0.6536 - loss: 0.6548 - val_accuracy: 0.5833 - val_loss: 0.5121\n",
      "Epoch 118/250\n",
      "\u001b[1m3/3\u001b[0m \u001b[32m━━━━━━━━━━━━━━━━━━━━\u001b[0m\u001b[37m\u001b[0m \u001b[1m0s\u001b[0m 108ms/step - accuracy: 0.6562 - loss: 0.6070 - val_accuracy: 0.5833 - val_loss: 0.5120\n",
      "Epoch 119/250\n",
      "\u001b[1m3/3\u001b[0m \u001b[32m━━━━━━━━━━━━━━━━━━━━\u001b[0m\u001b[37m\u001b[0m \u001b[1m0s\u001b[0m 124ms/step - accuracy: 0.7135 - loss: 0.5487 - val_accuracy: 0.5833 - val_loss: 0.5120\n",
      "Epoch 120/250\n",
      "\u001b[1m3/3\u001b[0m \u001b[32m━━━━━━━━━━━━━━━━━━━━\u001b[0m\u001b[37m\u001b[0m \u001b[1m0s\u001b[0m 118ms/step - accuracy: 0.6602 - loss: 0.5703 - val_accuracy: 0.5833 - val_loss: 0.5120\n",
      "Epoch 121/250\n",
      "\u001b[1m3/3\u001b[0m \u001b[32m━━━━━━━━━━━━━━━━━━━━\u001b[0m\u001b[37m\u001b[0m \u001b[1m0s\u001b[0m 148ms/step - accuracy: 0.6823 - loss: 0.6034 - val_accuracy: 0.5833 - val_loss: 0.5116\n",
      "Epoch 122/250\n",
      "\u001b[1m3/3\u001b[0m \u001b[32m━━━━━━━━━━━━━━━━━━━━\u001b[0m\u001b[37m\u001b[0m \u001b[1m1s\u001b[0m 122ms/step - accuracy: 0.5716 - loss: 0.6865 - val_accuracy: 0.5833 - val_loss: 0.5111\n",
      "Epoch 123/250\n",
      "\u001b[1m3/3\u001b[0m \u001b[32m━━━━━━━━━━━━━━━━━━━━\u001b[0m\u001b[37m\u001b[0m \u001b[1m0s\u001b[0m 120ms/step - accuracy: 0.6419 - loss: 0.6023 - val_accuracy: 0.5833 - val_loss: 0.5107\n",
      "Epoch 124/250\n",
      "\u001b[1m3/3\u001b[0m \u001b[32m━━━━━━━━━━━━━━━━━━━━\u001b[0m\u001b[37m\u001b[0m \u001b[1m0s\u001b[0m 117ms/step - accuracy: 0.6549 - loss: 0.6218 - val_accuracy: 0.5833 - val_loss: 0.5107\n",
      "Epoch 125/250\n",
      "\u001b[1m3/3\u001b[0m \u001b[32m━━━━━━━━━━━━━━━━━━━━\u001b[0m\u001b[37m\u001b[0m \u001b[1m0s\u001b[0m 118ms/step - accuracy: 0.5951 - loss: 0.5843 - val_accuracy: 0.5833 - val_loss: 0.5104\n",
      "Epoch 126/250\n",
      "\u001b[1m3/3\u001b[0m \u001b[32m━━━━━━━━━━━━━━━━━━━━\u001b[0m\u001b[37m\u001b[0m \u001b[1m0s\u001b[0m 120ms/step - accuracy: 0.6289 - loss: 0.6039 - val_accuracy: 0.5833 - val_loss: 0.5098\n",
      "Epoch 127/250\n",
      "\u001b[1m3/3\u001b[0m \u001b[32m━━━━━━━━━━━━━━━━━━━━\u001b[0m\u001b[37m\u001b[0m \u001b[1m0s\u001b[0m 123ms/step - accuracy: 0.6432 - loss: 0.5556 - val_accuracy: 0.5833 - val_loss: 0.5090\n",
      "Epoch 128/250\n",
      "\u001b[1m3/3\u001b[0m \u001b[32m━━━━━━━━━━━━━━━━━━━━\u001b[0m\u001b[37m\u001b[0m \u001b[1m0s\u001b[0m 112ms/step - accuracy: 0.6341 - loss: 0.6201 - val_accuracy: 0.5833 - val_loss: 0.5084\n",
      "Epoch 129/250\n",
      "\u001b[1m3/3\u001b[0m \u001b[32m━━━━━━━━━━━━━━━━━━━━\u001b[0m\u001b[37m\u001b[0m \u001b[1m0s\u001b[0m 122ms/step - accuracy: 0.6471 - loss: 0.6588 - val_accuracy: 0.5833 - val_loss: 0.5079\n",
      "Epoch 130/250\n",
      "\u001b[1m3/3\u001b[0m \u001b[32m━━━━━━━━━━━━━━━━━━━━\u001b[0m\u001b[37m\u001b[0m \u001b[1m0s\u001b[0m 117ms/step - accuracy: 0.6497 - loss: 0.5982 - val_accuracy: 0.5833 - val_loss: 0.5076\n",
      "Epoch 131/250\n",
      "\u001b[1m3/3\u001b[0m \u001b[32m━━━━━━━━━━━━━━━━━━━━\u001b[0m\u001b[37m\u001b[0m \u001b[1m0s\u001b[0m 122ms/step - accuracy: 0.6328 - loss: 0.5715 - val_accuracy: 0.5833 - val_loss: 0.5075\n",
      "Epoch 132/250\n",
      "\u001b[1m3/3\u001b[0m \u001b[32m━━━━━━━━━━━━━━━━━━━━\u001b[0m\u001b[37m\u001b[0m \u001b[1m0s\u001b[0m 144ms/step - accuracy: 0.6654 - loss: 0.5976 - val_accuracy: 0.5833 - val_loss: 0.5070\n",
      "Epoch 133/250\n",
      "\u001b[1m3/3\u001b[0m \u001b[32m━━━━━━━━━━━━━━━━━━━━\u001b[0m\u001b[37m\u001b[0m \u001b[1m0s\u001b[0m 167ms/step - accuracy: 0.6029 - loss: 0.6163 - val_accuracy: 0.5833 - val_loss: 0.5065\n",
      "Epoch 134/250\n",
      "\u001b[1m3/3\u001b[0m \u001b[32m━━━━━━━━━━━━━━━━━━━━\u001b[0m\u001b[37m\u001b[0m \u001b[1m0s\u001b[0m 139ms/step - accuracy: 0.6133 - loss: 0.5448 - val_accuracy: 0.5833 - val_loss: 0.5060\n",
      "Epoch 135/250\n",
      "\u001b[1m3/3\u001b[0m \u001b[32m━━━━━━━━━━━━━━━━━━━━\u001b[0m\u001b[37m\u001b[0m \u001b[1m0s\u001b[0m 151ms/step - accuracy: 0.6393 - loss: 0.5593 - val_accuracy: 0.5833 - val_loss: 0.5057\n",
      "Epoch 136/250\n",
      "\u001b[1m3/3\u001b[0m \u001b[32m━━━━━━━━━━━━━━━━━━━━\u001b[0m\u001b[37m\u001b[0m \u001b[1m0s\u001b[0m 151ms/step - accuracy: 0.6901 - loss: 0.5188 - val_accuracy: 0.5833 - val_loss: 0.5047\n",
      "Epoch 137/250\n",
      "\u001b[1m3/3\u001b[0m \u001b[32m━━━━━━━━━━━━━━━━━━━━\u001b[0m\u001b[37m\u001b[0m \u001b[1m0s\u001b[0m 130ms/step - accuracy: 0.5846 - loss: 0.6012 - val_accuracy: 0.5833 - val_loss: 0.5038\n",
      "Epoch 138/250\n",
      "\u001b[1m3/3\u001b[0m \u001b[32m━━━━━━━━━━━━━━━━━━━━\u001b[0m\u001b[37m\u001b[0m \u001b[1m0s\u001b[0m 133ms/step - accuracy: 0.6172 - loss: 0.6773 - val_accuracy: 0.5833 - val_loss: 0.5025\n",
      "Epoch 139/250\n",
      "\u001b[1m3/3\u001b[0m \u001b[32m━━━━━━━━━━━━━━━━━━━━\u001b[0m\u001b[37m\u001b[0m \u001b[1m0s\u001b[0m 140ms/step - accuracy: 0.6615 - loss: 0.6310 - val_accuracy: 0.5833 - val_loss: 0.5014\n",
      "Epoch 140/250\n",
      "\u001b[1m3/3\u001b[0m \u001b[32m━━━━━━━━━━━━━━━━━━━━\u001b[0m\u001b[37m\u001b[0m \u001b[1m0s\u001b[0m 158ms/step - accuracy: 0.6953 - loss: 0.5376 - val_accuracy: 0.5833 - val_loss: 0.5010\n",
      "Epoch 141/250\n",
      "\u001b[1m3/3\u001b[0m \u001b[32m━━━━━━━━━━━━━━━━━━━━\u001b[0m\u001b[37m\u001b[0m \u001b[1m0s\u001b[0m 171ms/step - accuracy: 0.6237 - loss: 0.5939 - val_accuracy: 0.5833 - val_loss: 0.5003\n",
      "Epoch 142/250\n",
      "\u001b[1m3/3\u001b[0m \u001b[32m━━━━━━━━━━━━━━━━━━━━\u001b[0m\u001b[37m\u001b[0m \u001b[1m0s\u001b[0m 142ms/step - accuracy: 0.6784 - loss: 0.5777 - val_accuracy: 0.5833 - val_loss: 0.5000\n",
      "Epoch 143/250\n",
      "\u001b[1m3/3\u001b[0m \u001b[32m━━━━━━━━━━━━━━━━━━━━\u001b[0m\u001b[37m\u001b[0m \u001b[1m0s\u001b[0m 154ms/step - accuracy: 0.6589 - loss: 0.5675 - val_accuracy: 0.5833 - val_loss: 0.4995\n",
      "Epoch 144/250\n",
      "\u001b[1m3/3\u001b[0m \u001b[32m━━━━━━━━━━━━━━━━━━━━\u001b[0m\u001b[37m\u001b[0m \u001b[1m0s\u001b[0m 146ms/step - accuracy: 0.6016 - loss: 0.5433 - val_accuracy: 0.5833 - val_loss: 0.4992\n",
      "Epoch 145/250\n",
      "\u001b[1m3/3\u001b[0m \u001b[32m━━━━━━━━━━━━━━━━━━━━\u001b[0m\u001b[37m\u001b[0m \u001b[1m0s\u001b[0m 134ms/step - accuracy: 0.6016 - loss: 0.6377 - val_accuracy: 0.5833 - val_loss: 0.4989\n",
      "Epoch 146/250\n",
      "\u001b[1m3/3\u001b[0m \u001b[32m━━━━━━━━━━━━━━━━━━━━\u001b[0m\u001b[37m\u001b[0m \u001b[1m0s\u001b[0m 139ms/step - accuracy: 0.7031 - loss: 0.5640 - val_accuracy: 0.5833 - val_loss: 0.4986\n",
      "Epoch 147/250\n",
      "\u001b[1m3/3\u001b[0m \u001b[32m━━━━━━━━━━━━━━━━━━━━\u001b[0m\u001b[37m\u001b[0m \u001b[1m0s\u001b[0m 132ms/step - accuracy: 0.6849 - loss: 0.5773 - val_accuracy: 0.5833 - val_loss: 0.4987\n",
      "Epoch 148/250\n",
      "\u001b[1m3/3\u001b[0m \u001b[32m━━━━━━━━━━━━━━━━━━━━\u001b[0m\u001b[37m\u001b[0m \u001b[1m0s\u001b[0m 147ms/step - accuracy: 0.5677 - loss: 0.6024 - val_accuracy: 0.5833 - val_loss: 0.4985\n",
      "Epoch 149/250\n",
      "\u001b[1m3/3\u001b[0m \u001b[32m━━━━━━━━━━━━━━━━━━━━\u001b[0m\u001b[37m\u001b[0m \u001b[1m0s\u001b[0m 157ms/step - accuracy: 0.7070 - loss: 0.5434 - val_accuracy: 0.5833 - val_loss: 0.4984\n",
      "Epoch 150/250\n",
      "\u001b[1m3/3\u001b[0m \u001b[32m━━━━━━━━━━━━━━━━━━━━\u001b[0m\u001b[37m\u001b[0m \u001b[1m0s\u001b[0m 157ms/step - accuracy: 0.5911 - loss: 0.5606 - val_accuracy: 0.5833 - val_loss: 0.4983\n",
      "Epoch 151/250\n",
      "\u001b[1m3/3\u001b[0m \u001b[32m━━━━━━━━━━━━━━━━━━━━\u001b[0m\u001b[37m\u001b[0m \u001b[1m0s\u001b[0m 160ms/step - accuracy: 0.6224 - loss: 0.5887 - val_accuracy: 0.5833 - val_loss: 0.4982\n",
      "Epoch 152/250\n",
      "\u001b[1m3/3\u001b[0m \u001b[32m━━━━━━━━━━━━━━━━━━━━\u001b[0m\u001b[37m\u001b[0m \u001b[1m0s\u001b[0m 163ms/step - accuracy: 0.6224 - loss: 0.5606 - val_accuracy: 0.5833 - val_loss: 0.4980\n",
      "Epoch 153/250\n",
      "\u001b[1m3/3\u001b[0m \u001b[32m━━━━━━━━━━━━━━━━━━━━\u001b[0m\u001b[37m\u001b[0m \u001b[1m0s\u001b[0m 180ms/step - accuracy: 0.6133 - loss: 0.6020 - val_accuracy: 0.5833 - val_loss: 0.4977\n",
      "Epoch 154/250\n",
      "\u001b[1m3/3\u001b[0m \u001b[32m━━━━━━━━━━━━━━━━━━━━\u001b[0m\u001b[37m\u001b[0m \u001b[1m0s\u001b[0m 180ms/step - accuracy: 0.6211 - loss: 0.5923 - val_accuracy: 0.5833 - val_loss: 0.4974\n",
      "Epoch 155/250\n",
      "\u001b[1m3/3\u001b[0m \u001b[32m━━━━━━━━━━━━━━━━━━━━\u001b[0m\u001b[37m\u001b[0m \u001b[1m0s\u001b[0m 164ms/step - accuracy: 0.6667 - loss: 0.6101 - val_accuracy: 0.5833 - val_loss: 0.4968\n",
      "Epoch 156/250\n",
      "\u001b[1m3/3\u001b[0m \u001b[32m━━━━━━━━━━━━━━━━━━━━\u001b[0m\u001b[37m\u001b[0m \u001b[1m0s\u001b[0m 161ms/step - accuracy: 0.6732 - loss: 0.5161 - val_accuracy: 0.5833 - val_loss: 0.4967\n",
      "Epoch 157/250\n",
      "\u001b[1m3/3\u001b[0m \u001b[32m━━━━━━━━━━━━━━━━━━━━\u001b[0m\u001b[37m\u001b[0m \u001b[1m0s\u001b[0m 160ms/step - accuracy: 0.7279 - loss: 0.5208 - val_accuracy: 0.5833 - val_loss: 0.4966\n",
      "Epoch 158/250\n",
      "\u001b[1m3/3\u001b[0m \u001b[32m━━━━━━━━━━━━━━━━━━━━\u001b[0m\u001b[37m\u001b[0m \u001b[1m0s\u001b[0m 167ms/step - accuracy: 0.6615 - loss: 0.5625 - val_accuracy: 0.5833 - val_loss: 0.4970\n",
      "Epoch 159/250\n",
      "\u001b[1m3/3\u001b[0m \u001b[32m━━━━━━━━━━━━━━━━━━━━\u001b[0m\u001b[37m\u001b[0m \u001b[1m0s\u001b[0m 149ms/step - accuracy: 0.6576 - loss: 0.6269 - val_accuracy: 0.5833 - val_loss: 0.4968\n",
      "Epoch 160/250\n",
      "\u001b[1m3/3\u001b[0m \u001b[32m━━━━━━━━━━━━━━━━━━━━\u001b[0m\u001b[37m\u001b[0m \u001b[1m0s\u001b[0m 156ms/step - accuracy: 0.6966 - loss: 0.5109 - val_accuracy: 0.5833 - val_loss: 0.4968\n",
      "Epoch 161/250\n",
      "\u001b[1m3/3\u001b[0m \u001b[32m━━━━━━━━━━━━━━━━━━━━\u001b[0m\u001b[37m\u001b[0m \u001b[1m0s\u001b[0m 143ms/step - accuracy: 0.6771 - loss: 0.5638 - val_accuracy: 0.5833 - val_loss: 0.4964\n",
      "Epoch 162/250\n",
      "\u001b[1m3/3\u001b[0m \u001b[32m━━━━━━━━━━━━━━━━━━━━\u001b[0m\u001b[37m\u001b[0m \u001b[1m0s\u001b[0m 153ms/step - accuracy: 0.7357 - loss: 0.4822 - val_accuracy: 0.5833 - val_loss: 0.4961\n",
      "Epoch 163/250\n",
      "\u001b[1m3/3\u001b[0m \u001b[32m━━━━━━━━━━━━━━━━━━━━\u001b[0m\u001b[37m\u001b[0m \u001b[1m0s\u001b[0m 149ms/step - accuracy: 0.6927 - loss: 0.5589 - val_accuracy: 0.5833 - val_loss: 0.4961\n",
      "Epoch 164/250\n",
      "\u001b[1m3/3\u001b[0m \u001b[32m━━━━━━━━━━━━━━━━━━━━\u001b[0m\u001b[37m\u001b[0m \u001b[1m0s\u001b[0m 155ms/step - accuracy: 0.6146 - loss: 0.6182 - val_accuracy: 0.5833 - val_loss: 0.4959\n",
      "Epoch 165/250\n",
      "\u001b[1m3/3\u001b[0m \u001b[32m━━━━━━━━━━━━━━━━━━━━\u001b[0m\u001b[37m\u001b[0m \u001b[1m0s\u001b[0m 161ms/step - accuracy: 0.6237 - loss: 0.5738 - val_accuracy: 0.5833 - val_loss: 0.4953\n",
      "Epoch 166/250\n",
      "\u001b[1m3/3\u001b[0m \u001b[32m━━━━━━━━━━━━━━━━━━━━\u001b[0m\u001b[37m\u001b[0m \u001b[1m0s\u001b[0m 176ms/step - accuracy: 0.6354 - loss: 0.5653 - val_accuracy: 0.5833 - val_loss: 0.4950\n",
      "Epoch 167/250\n",
      "\u001b[1m3/3\u001b[0m \u001b[32m━━━━━━━━━━━━━━━━━━━━\u001b[0m\u001b[37m\u001b[0m \u001b[1m0s\u001b[0m 157ms/step - accuracy: 0.6641 - loss: 0.6253 - val_accuracy: 0.5833 - val_loss: 0.4952\n",
      "Epoch 168/250\n",
      "\u001b[1m3/3\u001b[0m \u001b[32m━━━━━━━━━━━━━━━━━━━━\u001b[0m\u001b[37m\u001b[0m \u001b[1m0s\u001b[0m 161ms/step - accuracy: 0.6966 - loss: 0.5555 - val_accuracy: 0.5833 - val_loss: 0.4950\n",
      "Epoch 169/250\n",
      "\u001b[1m3/3\u001b[0m \u001b[32m━━━━━━━━━━━━━━━━━━━━\u001b[0m\u001b[37m\u001b[0m \u001b[1m0s\u001b[0m 155ms/step - accuracy: 0.6628 - loss: 0.6164 - val_accuracy: 0.5833 - val_loss: 0.4950\n",
      "Epoch 170/250\n",
      "\u001b[1m3/3\u001b[0m \u001b[32m━━━━━━━━━━━━━━━━━━━━\u001b[0m\u001b[37m\u001b[0m \u001b[1m0s\u001b[0m 155ms/step - accuracy: 0.7253 - loss: 0.5238 - val_accuracy: 0.5833 - val_loss: 0.4950\n",
      "Epoch 171/250\n",
      "\u001b[1m3/3\u001b[0m \u001b[32m━━━━━━━━━━━━━━━━━━━━\u001b[0m\u001b[37m\u001b[0m \u001b[1m0s\u001b[0m 149ms/step - accuracy: 0.7305 - loss: 0.5275 - val_accuracy: 0.5833 - val_loss: 0.4947\n",
      "Epoch 172/250\n",
      "\u001b[1m3/3\u001b[0m \u001b[32m━━━━━━━━━━━━━━━━━━━━\u001b[0m\u001b[37m\u001b[0m \u001b[1m0s\u001b[0m 150ms/step - accuracy: 0.6914 - loss: 0.5116 - val_accuracy: 0.5833 - val_loss: 0.4947\n",
      "Epoch 173/250\n",
      "\u001b[1m3/3\u001b[0m \u001b[32m━━━━━━━━━━━━━━━━━━━━\u001b[0m\u001b[37m\u001b[0m \u001b[1m0s\u001b[0m 148ms/step - accuracy: 0.7539 - loss: 0.4916 - val_accuracy: 0.5833 - val_loss: 0.4948\n",
      "Epoch 174/250\n",
      "\u001b[1m3/3\u001b[0m \u001b[32m━━━━━━━━━━━━━━━━━━━━\u001b[0m\u001b[37m\u001b[0m \u001b[1m0s\u001b[0m 162ms/step - accuracy: 0.6914 - loss: 0.5615 - val_accuracy: 0.5833 - val_loss: 0.4951\n",
      "Epoch 175/250\n",
      "\u001b[1m3/3\u001b[0m \u001b[32m━━━━━━━━━━━━━━━━━━━━\u001b[0m\u001b[37m\u001b[0m \u001b[1m0s\u001b[0m 146ms/step - accuracy: 0.7930 - loss: 0.4905 - val_accuracy: 0.5833 - val_loss: 0.4953\n",
      "Epoch 176/250\n",
      "\u001b[1m3/3\u001b[0m \u001b[32m━━━━━━━━━━━━━━━━━━━━\u001b[0m\u001b[37m\u001b[0m \u001b[1m0s\u001b[0m 158ms/step - accuracy: 0.7357 - loss: 0.5335 - val_accuracy: 0.5833 - val_loss: 0.4953\n",
      "Epoch 177/250\n",
      "\u001b[1m3/3\u001b[0m \u001b[32m━━━━━━━━━━━━━━━━━━━━\u001b[0m\u001b[37m\u001b[0m \u001b[1m0s\u001b[0m 150ms/step - accuracy: 0.6758 - loss: 0.5353 - val_accuracy: 0.5833 - val_loss: 0.4954\n",
      "Epoch 178/250\n",
      "\u001b[1m3/3\u001b[0m \u001b[32m━━━━━━━━━━━━━━━━━━━━\u001b[0m\u001b[37m\u001b[0m \u001b[1m0s\u001b[0m 166ms/step - accuracy: 0.6237 - loss: 0.5380 - val_accuracy: 0.5833 - val_loss: 0.4950\n",
      "Epoch 179/250\n",
      "\u001b[1m3/3\u001b[0m \u001b[32m━━━━━━━━━━━━━━━━━━━━\u001b[0m\u001b[37m\u001b[0m \u001b[1m1s\u001b[0m 150ms/step - accuracy: 0.6810 - loss: 0.5582 - val_accuracy: 0.5833 - val_loss: 0.4941\n",
      "Epoch 180/250\n",
      "\u001b[1m3/3\u001b[0m \u001b[32m━━━━━━━━━━━━━━━━━━━━\u001b[0m\u001b[37m\u001b[0m \u001b[1m0s\u001b[0m 153ms/step - accuracy: 0.6836 - loss: 0.5291 - val_accuracy: 0.5833 - val_loss: 0.4930\n",
      "Epoch 181/250\n",
      "\u001b[1m3/3\u001b[0m \u001b[32m━━━━━━━━━━━━━━━━━━━━\u001b[0m\u001b[37m\u001b[0m \u001b[1m0s\u001b[0m 152ms/step - accuracy: 0.7734 - loss: 0.4920 - val_accuracy: 0.5833 - val_loss: 0.4922\n",
      "Epoch 182/250\n",
      "\u001b[1m3/3\u001b[0m \u001b[32m━━━━━━━━━━━━━━━━━━━━\u001b[0m\u001b[37m\u001b[0m \u001b[1m0s\u001b[0m 151ms/step - accuracy: 0.5820 - loss: 0.6192 - val_accuracy: 0.5833 - val_loss: 0.4909\n",
      "Epoch 183/250\n",
      "\u001b[1m3/3\u001b[0m \u001b[32m━━━━━━━━━━━━━━━━━━━━\u001b[0m\u001b[37m\u001b[0m \u001b[1m0s\u001b[0m 165ms/step - accuracy: 0.6875 - loss: 0.5002 - val_accuracy: 0.5833 - val_loss: 0.4895\n",
      "Epoch 184/250\n",
      "\u001b[1m3/3\u001b[0m \u001b[32m━━━━━━━━━━━━━━━━━━━━\u001b[0m\u001b[37m\u001b[0m \u001b[1m0s\u001b[0m 152ms/step - accuracy: 0.7305 - loss: 0.5195 - val_accuracy: 0.5833 - val_loss: 0.4883\n",
      "Epoch 185/250\n",
      "\u001b[1m3/3\u001b[0m \u001b[32m━━━━━━━━━━━━━━━━━━━━\u001b[0m\u001b[37m\u001b[0m \u001b[1m0s\u001b[0m 153ms/step - accuracy: 0.7279 - loss: 0.4962 - val_accuracy: 0.5833 - val_loss: 0.4872\n",
      "Epoch 186/250\n",
      "\u001b[1m3/3\u001b[0m \u001b[32m━━━━━━━━━━━━━━━━━━━━\u001b[0m\u001b[37m\u001b[0m \u001b[1m0s\u001b[0m 153ms/step - accuracy: 0.7396 - loss: 0.5008 - val_accuracy: 0.5833 - val_loss: 0.4862\n",
      "Epoch 187/250\n",
      "\u001b[1m3/3\u001b[0m \u001b[32m━━━━━━━━━━━━━━━━━━━━\u001b[0m\u001b[37m\u001b[0m \u001b[1m0s\u001b[0m 155ms/step - accuracy: 0.5898 - loss: 0.5627 - val_accuracy: 0.6250 - val_loss: 0.4851\n",
      "Epoch 188/250\n",
      "\u001b[1m3/3\u001b[0m \u001b[32m━━━━━━━━━━━━━━━━━━━━\u001b[0m\u001b[37m\u001b[0m \u001b[1m0s\u001b[0m 162ms/step - accuracy: 0.5990 - loss: 0.5657 - val_accuracy: 0.6250 - val_loss: 0.4847\n",
      "Epoch 189/250\n",
      "\u001b[1m3/3\u001b[0m \u001b[32m━━━━━━━━━━━━━━━━━━━━\u001b[0m\u001b[37m\u001b[0m \u001b[1m0s\u001b[0m 161ms/step - accuracy: 0.7135 - loss: 0.5126 - val_accuracy: 0.6250 - val_loss: 0.4840\n",
      "Epoch 190/250\n",
      "\u001b[1m3/3\u001b[0m \u001b[32m━━━━━━━━━━━━━━━━━━━━\u001b[0m\u001b[37m\u001b[0m \u001b[1m0s\u001b[0m 160ms/step - accuracy: 0.6107 - loss: 0.6029 - val_accuracy: 0.6250 - val_loss: 0.4836\n",
      "Epoch 191/250\n",
      "\u001b[1m3/3\u001b[0m \u001b[32m━━━━━━━━━━━━━━━━━━━━\u001b[0m\u001b[37m\u001b[0m \u001b[1m0s\u001b[0m 145ms/step - accuracy: 0.6471 - loss: 0.5547 - val_accuracy: 0.6250 - val_loss: 0.4835\n",
      "Epoch 192/250\n",
      "\u001b[1m3/3\u001b[0m \u001b[32m━━━━━━━━━━━━━━━━━━━━\u001b[0m\u001b[37m\u001b[0m \u001b[1m0s\u001b[0m 163ms/step - accuracy: 0.7383 - loss: 0.5576 - val_accuracy: 0.6250 - val_loss: 0.4834\n",
      "Epoch 193/250\n",
      "\u001b[1m3/3\u001b[0m \u001b[32m━━━━━━━━━━━━━━━━━━━━\u001b[0m\u001b[37m\u001b[0m \u001b[1m0s\u001b[0m 168ms/step - accuracy: 0.7031 - loss: 0.5348 - val_accuracy: 0.6250 - val_loss: 0.4835\n",
      "Epoch 194/250\n",
      "\u001b[1m3/3\u001b[0m \u001b[32m━━━━━━━━━━━━━━━━━━━━\u001b[0m\u001b[37m\u001b[0m \u001b[1m0s\u001b[0m 151ms/step - accuracy: 0.6992 - loss: 0.5163 - val_accuracy: 0.6250 - val_loss: 0.4839\n",
      "Epoch 195/250\n",
      "\u001b[1m3/3\u001b[0m \u001b[32m━━━━━━━━━━━━━━━━━━━━\u001b[0m\u001b[37m\u001b[0m \u001b[1m0s\u001b[0m 160ms/step - accuracy: 0.6979 - loss: 0.4928 - val_accuracy: 0.6250 - val_loss: 0.4837\n",
      "Epoch 196/250\n",
      "\u001b[1m3/3\u001b[0m \u001b[32m━━━━━━━━━━━━━━━━━━━━\u001b[0m\u001b[37m\u001b[0m \u001b[1m0s\u001b[0m 170ms/step - accuracy: 0.6432 - loss: 0.5317 - val_accuracy: 0.6250 - val_loss: 0.4828\n",
      "Epoch 197/250\n",
      "\u001b[1m3/3\u001b[0m \u001b[32m━━━━━━━━━━━━━━━━━━━━\u001b[0m\u001b[37m\u001b[0m \u001b[1m0s\u001b[0m 152ms/step - accuracy: 0.7448 - loss: 0.5000 - val_accuracy: 0.6250 - val_loss: 0.4829\n",
      "Epoch 198/250\n",
      "\u001b[1m3/3\u001b[0m \u001b[32m━━━━━━━━━━━━━━━━━━━━\u001b[0m\u001b[37m\u001b[0m \u001b[1m0s\u001b[0m 151ms/step - accuracy: 0.7318 - loss: 0.5364 - val_accuracy: 0.5833 - val_loss: 0.4830\n",
      "Epoch 199/250\n",
      "\u001b[1m3/3\u001b[0m \u001b[32m━━━━━━━━━━━━━━━━━━━━\u001b[0m\u001b[37m\u001b[0m \u001b[1m0s\u001b[0m 155ms/step - accuracy: 0.6445 - loss: 0.5032 - val_accuracy: 0.6250 - val_loss: 0.4821\n",
      "Epoch 200/250\n",
      "\u001b[1m3/3\u001b[0m \u001b[32m━━━━━━━━━━━━━━━━━━━━\u001b[0m\u001b[37m\u001b[0m \u001b[1m0s\u001b[0m 152ms/step - accuracy: 0.7318 - loss: 0.5521 - val_accuracy: 0.6250 - val_loss: 0.4810\n",
      "Epoch 201/250\n",
      "\u001b[1m3/3\u001b[0m \u001b[32m━━━━━━━━━━━━━━━━━━━━\u001b[0m\u001b[37m\u001b[0m \u001b[1m0s\u001b[0m 151ms/step - accuracy: 0.7031 - loss: 0.5214 - val_accuracy: 0.6250 - val_loss: 0.4798\n",
      "Epoch 202/250\n",
      "\u001b[1m3/3\u001b[0m \u001b[32m━━━━━━━━━━━━━━━━━━━━\u001b[0m\u001b[37m\u001b[0m \u001b[1m0s\u001b[0m 150ms/step - accuracy: 0.7005 - loss: 0.4835 - val_accuracy: 0.6250 - val_loss: 0.4789\n",
      "Epoch 203/250\n",
      "\u001b[1m3/3\u001b[0m \u001b[32m━━━━━━━━━━━━━━━━━━━━\u001b[0m\u001b[37m\u001b[0m \u001b[1m0s\u001b[0m 155ms/step - accuracy: 0.7031 - loss: 0.5030 - val_accuracy: 0.6250 - val_loss: 0.4778\n",
      "Epoch 204/250\n",
      "\u001b[1m3/3\u001b[0m \u001b[32m━━━━━━━━━━━━━━━━━━━━\u001b[0m\u001b[37m\u001b[0m \u001b[1m0s\u001b[0m 169ms/step - accuracy: 0.6979 - loss: 0.5901 - val_accuracy: 0.6250 - val_loss: 0.4766\n",
      "Epoch 205/250\n",
      "\u001b[1m3/3\u001b[0m \u001b[32m━━━━━━━━━━━━━━━━━━━━\u001b[0m\u001b[37m\u001b[0m \u001b[1m0s\u001b[0m 160ms/step - accuracy: 0.6146 - loss: 0.5883 - val_accuracy: 0.6250 - val_loss: 0.4754\n",
      "Epoch 206/250\n",
      "\u001b[1m3/3\u001b[0m \u001b[32m━━━━━━━━━━━━━━━━━━━━\u001b[0m\u001b[37m\u001b[0m \u001b[1m0s\u001b[0m 148ms/step - accuracy: 0.7070 - loss: 0.5355 - val_accuracy: 0.6250 - val_loss: 0.4742\n",
      "Epoch 207/250\n",
      "\u001b[1m3/3\u001b[0m \u001b[32m━━━━━━━━━━━━━━━━━━━━\u001b[0m\u001b[37m\u001b[0m \u001b[1m0s\u001b[0m 142ms/step - accuracy: 0.7721 - loss: 0.5064 - val_accuracy: 0.6250 - val_loss: 0.4731\n",
      "Epoch 208/250\n",
      "\u001b[1m3/3\u001b[0m \u001b[32m━━━━━━━━━━━━━━━━━━━━\u001b[0m\u001b[37m\u001b[0m \u001b[1m0s\u001b[0m 152ms/step - accuracy: 0.7318 - loss: 0.5116 - val_accuracy: 0.6250 - val_loss: 0.4722\n",
      "Epoch 209/250\n",
      "\u001b[1m3/3\u001b[0m \u001b[32m━━━━━━━━━━━━━━━━━━━━\u001b[0m\u001b[37m\u001b[0m \u001b[1m0s\u001b[0m 164ms/step - accuracy: 0.6719 - loss: 0.5357 - val_accuracy: 0.6250 - val_loss: 0.4713\n",
      "Epoch 210/250\n",
      "\u001b[1m3/3\u001b[0m \u001b[32m━━━━━━━━━━━━━━━━━━━━\u001b[0m\u001b[37m\u001b[0m \u001b[1m0s\u001b[0m 165ms/step - accuracy: 0.6823 - loss: 0.4884 - val_accuracy: 0.6250 - val_loss: 0.4700\n",
      "Epoch 211/250\n",
      "\u001b[1m3/3\u001b[0m \u001b[32m━━━━━━━━━━━━━━━━━━━━\u001b[0m\u001b[37m\u001b[0m \u001b[1m0s\u001b[0m 151ms/step - accuracy: 0.7630 - loss: 0.5296 - val_accuracy: 0.6250 - val_loss: 0.4694\n",
      "Epoch 212/250\n",
      "\u001b[1m3/3\u001b[0m \u001b[32m━━━━━━━━━━━━━━━━━━━━\u001b[0m\u001b[37m\u001b[0m \u001b[1m0s\u001b[0m 158ms/step - accuracy: 0.7383 - loss: 0.4931 - val_accuracy: 0.6250 - val_loss: 0.4689\n",
      "Epoch 213/250\n",
      "\u001b[1m3/3\u001b[0m \u001b[32m━━━━━━━━━━━━━━━━━━━━\u001b[0m\u001b[37m\u001b[0m \u001b[1m0s\u001b[0m 157ms/step - accuracy: 0.6393 - loss: 0.5605 - val_accuracy: 0.6250 - val_loss: 0.4693\n",
      "Epoch 214/250\n",
      "\u001b[1m3/3\u001b[0m \u001b[32m━━━━━━━━━━━━━━━━━━━━\u001b[0m\u001b[37m\u001b[0m \u001b[1m0s\u001b[0m 138ms/step - accuracy: 0.7474 - loss: 0.4819 - val_accuracy: 0.6250 - val_loss: 0.4684\n",
      "Epoch 215/250\n",
      "\u001b[1m3/3\u001b[0m \u001b[32m━━━━━━━━━━━━━━━━━━━━\u001b[0m\u001b[37m\u001b[0m \u001b[1m0s\u001b[0m 151ms/step - accuracy: 0.7773 - loss: 0.4959 - val_accuracy: 0.6250 - val_loss: 0.4668\n",
      "Epoch 216/250\n",
      "\u001b[1m3/3\u001b[0m \u001b[32m━━━━━━━━━━━━━━━━━━━━\u001b[0m\u001b[37m\u001b[0m \u001b[1m0s\u001b[0m 153ms/step - accuracy: 0.6953 - loss: 0.5332 - val_accuracy: 0.6250 - val_loss: 0.4658\n",
      "Epoch 217/250\n",
      "\u001b[1m3/3\u001b[0m \u001b[32m━━━━━━━━━━━━━━━━━━━━\u001b[0m\u001b[37m\u001b[0m \u001b[1m0s\u001b[0m 155ms/step - accuracy: 0.7292 - loss: 0.5027 - val_accuracy: 0.6250 - val_loss: 0.4649\n",
      "Epoch 218/250\n",
      "\u001b[1m3/3\u001b[0m \u001b[32m━━━━━━━━━━━━━━━━━━━━\u001b[0m\u001b[37m\u001b[0m \u001b[1m0s\u001b[0m 160ms/step - accuracy: 0.6641 - loss: 0.5404 - val_accuracy: 0.6250 - val_loss: 0.4629\n",
      "Epoch 219/250\n",
      "\u001b[1m3/3\u001b[0m \u001b[32m━━━━━━━━━━━━━━━━━━━━\u001b[0m\u001b[37m\u001b[0m \u001b[1m0s\u001b[0m 166ms/step - accuracy: 0.6706 - loss: 0.5012 - val_accuracy: 0.7083 - val_loss: 0.4605\n",
      "Epoch 220/250\n",
      "\u001b[1m3/3\u001b[0m \u001b[32m━━━━━━━━━━━━━━━━━━━━\u001b[0m\u001b[37m\u001b[0m \u001b[1m0s\u001b[0m 160ms/step - accuracy: 0.7096 - loss: 0.5258 - val_accuracy: 0.7083 - val_loss: 0.4578\n",
      "Epoch 221/250\n",
      "\u001b[1m3/3\u001b[0m \u001b[32m━━━━━━━━━━━━━━━━━━━━\u001b[0m\u001b[37m\u001b[0m \u001b[1m0s\u001b[0m 145ms/step - accuracy: 0.7682 - loss: 0.4512 - val_accuracy: 0.7500 - val_loss: 0.4555\n",
      "Epoch 222/250\n",
      "\u001b[1m3/3\u001b[0m \u001b[32m━━━━━━━━━━━━━━━━━━━━\u001b[0m\u001b[37m\u001b[0m \u001b[1m0s\u001b[0m 142ms/step - accuracy: 0.6836 - loss: 0.5614 - val_accuracy: 0.7500 - val_loss: 0.4537\n",
      "Epoch 223/250\n",
      "\u001b[1m3/3\u001b[0m \u001b[32m━━━━━━━━━━━━━━━━━━━━\u001b[0m\u001b[37m\u001b[0m \u001b[1m0s\u001b[0m 151ms/step - accuracy: 0.7760 - loss: 0.4799 - val_accuracy: 0.7500 - val_loss: 0.4522\n",
      "Epoch 224/250\n",
      "\u001b[1m3/3\u001b[0m \u001b[32m━━━━━━━━━━━━━━━━━━━━\u001b[0m\u001b[37m\u001b[0m \u001b[1m0s\u001b[0m 155ms/step - accuracy: 0.7044 - loss: 0.4877 - val_accuracy: 0.7500 - val_loss: 0.4511\n",
      "Epoch 225/250\n",
      "\u001b[1m3/3\u001b[0m \u001b[32m━━━━━━━━━━━━━━━━━━━━\u001b[0m\u001b[37m\u001b[0m \u001b[1m0s\u001b[0m 143ms/step - accuracy: 0.7526 - loss: 0.5060 - val_accuracy: 0.7083 - val_loss: 0.4505\n",
      "Epoch 226/250\n",
      "\u001b[1m3/3\u001b[0m \u001b[32m━━━━━━━━━━━━━━━━━━━━\u001b[0m\u001b[37m\u001b[0m \u001b[1m0s\u001b[0m 160ms/step - accuracy: 0.8060 - loss: 0.4678 - val_accuracy: 0.7500 - val_loss: 0.4484\n",
      "Epoch 227/250\n",
      "\u001b[1m3/3\u001b[0m \u001b[32m━━━━━━━━━━━━━━━━━━━━\u001b[0m\u001b[37m\u001b[0m \u001b[1m0s\u001b[0m 175ms/step - accuracy: 0.7344 - loss: 0.4744 - val_accuracy: 0.7500 - val_loss: 0.4456\n",
      "Epoch 228/250\n",
      "\u001b[1m3/3\u001b[0m \u001b[32m━━━━━━━━━━━━━━━━━━━━\u001b[0m\u001b[37m\u001b[0m \u001b[1m0s\u001b[0m 158ms/step - accuracy: 0.7109 - loss: 0.5242 - val_accuracy: 0.7500 - val_loss: 0.4415\n",
      "Epoch 229/250\n",
      "\u001b[1m3/3\u001b[0m \u001b[32m━━━━━━━━━━━━━━━━━━━━\u001b[0m\u001b[37m\u001b[0m \u001b[1m1s\u001b[0m 144ms/step - accuracy: 0.6966 - loss: 0.5172 - val_accuracy: 0.7500 - val_loss: 0.4366\n",
      "Epoch 230/250\n",
      "\u001b[1m3/3\u001b[0m \u001b[32m━━━━━━━━━━━━━━━━━━━━\u001b[0m\u001b[37m\u001b[0m \u001b[1m0s\u001b[0m 153ms/step - accuracy: 0.7839 - loss: 0.5401 - val_accuracy: 0.7917 - val_loss: 0.4327\n",
      "Epoch 231/250\n",
      "\u001b[1m3/3\u001b[0m \u001b[32m━━━━━━━━━━━━━━━━━━━━\u001b[0m\u001b[37m\u001b[0m \u001b[1m0s\u001b[0m 139ms/step - accuracy: 0.7656 - loss: 0.5011 - val_accuracy: 0.7917 - val_loss: 0.4302\n",
      "Epoch 232/250\n",
      "\u001b[1m3/3\u001b[0m \u001b[32m━━━━━━━━━━━━━━━━━━━━\u001b[0m\u001b[37m\u001b[0m \u001b[1m0s\u001b[0m 125ms/step - accuracy: 0.7292 - loss: 0.4628 - val_accuracy: 0.8333 - val_loss: 0.4280\n",
      "Epoch 233/250\n",
      "\u001b[1m3/3\u001b[0m \u001b[32m━━━━━━━━━━━━━━━━━━━━\u001b[0m\u001b[37m\u001b[0m \u001b[1m0s\u001b[0m 123ms/step - accuracy: 0.7292 - loss: 0.5130 - val_accuracy: 0.8333 - val_loss: 0.4252\n",
      "Epoch 234/250\n",
      "\u001b[1m3/3\u001b[0m \u001b[32m━━━━━━━━━━━━━━━━━━━━\u001b[0m\u001b[37m\u001b[0m \u001b[1m0s\u001b[0m 119ms/step - accuracy: 0.6380 - loss: 0.5752 - val_accuracy: 0.8750 - val_loss: 0.4225\n",
      "Epoch 235/250\n",
      "\u001b[1m3/3\u001b[0m \u001b[32m━━━━━━━━━━━━━━━━━━━━\u001b[0m\u001b[37m\u001b[0m \u001b[1m0s\u001b[0m 130ms/step - accuracy: 0.7279 - loss: 0.5331 - val_accuracy: 0.9167 - val_loss: 0.4193\n",
      "Epoch 236/250\n",
      "\u001b[1m3/3\u001b[0m \u001b[32m━━━━━━━━━━━━━━━━━━━━\u001b[0m\u001b[37m\u001b[0m \u001b[1m0s\u001b[0m 115ms/step - accuracy: 0.7604 - loss: 0.4901 - val_accuracy: 0.9167 - val_loss: 0.4170\n",
      "Epoch 237/250\n",
      "\u001b[1m3/3\u001b[0m \u001b[32m━━━━━━━━━━━━━━━━━━━━\u001b[0m\u001b[37m\u001b[0m \u001b[1m0s\u001b[0m 118ms/step - accuracy: 0.7279 - loss: 0.5291 - val_accuracy: 0.9167 - val_loss: 0.4153\n",
      "Epoch 238/250\n",
      "\u001b[1m3/3\u001b[0m \u001b[32m━━━━━━━━━━━━━━━━━━━━\u001b[0m\u001b[37m\u001b[0m \u001b[1m0s\u001b[0m 117ms/step - accuracy: 0.6797 - loss: 0.5463 - val_accuracy: 0.9167 - val_loss: 0.4147\n",
      "Epoch 239/250\n",
      "\u001b[1m3/3\u001b[0m \u001b[32m━━━━━━━━━━━━━━━━━━━━\u001b[0m\u001b[37m\u001b[0m \u001b[1m0s\u001b[0m 125ms/step - accuracy: 0.7969 - loss: 0.4328 - val_accuracy: 0.9167 - val_loss: 0.4141\n",
      "Epoch 240/250\n",
      "\u001b[1m3/3\u001b[0m \u001b[32m━━━━━━━━━━━━━━━━━━━━\u001b[0m\u001b[37m\u001b[0m \u001b[1m0s\u001b[0m 125ms/step - accuracy: 0.7057 - loss: 0.5072 - val_accuracy: 0.9167 - val_loss: 0.4128\n",
      "Epoch 241/250\n",
      "\u001b[1m3/3\u001b[0m \u001b[32m━━━━━━━━━━━━━━━━━━━━\u001b[0m\u001b[37m\u001b[0m \u001b[1m0s\u001b[0m 152ms/step - accuracy: 0.7409 - loss: 0.4880 - val_accuracy: 0.9167 - val_loss: 0.4116\n",
      "Epoch 242/250\n",
      "\u001b[1m3/3\u001b[0m \u001b[32m━━━━━━━━━━━━━━━━━━━━\u001b[0m\u001b[37m\u001b[0m \u001b[1m0s\u001b[0m 151ms/step - accuracy: 0.7266 - loss: 0.4852 - val_accuracy: 0.9167 - val_loss: 0.4113\n",
      "Epoch 243/250\n",
      "\u001b[1m3/3\u001b[0m \u001b[32m━━━━━━━━━━━━━━━━━━━━\u001b[0m\u001b[37m\u001b[0m \u001b[1m0s\u001b[0m 171ms/step - accuracy: 0.7500 - loss: 0.4541 - val_accuracy: 0.9167 - val_loss: 0.4104\n",
      "Epoch 244/250\n",
      "\u001b[1m3/3\u001b[0m \u001b[32m━━━━━━━━━━━━━━━━━━━━\u001b[0m\u001b[37m\u001b[0m \u001b[1m0s\u001b[0m 156ms/step - accuracy: 0.6862 - loss: 0.5196 - val_accuracy: 0.9167 - val_loss: 0.4096\n",
      "Epoch 245/250\n",
      "\u001b[1m3/3\u001b[0m \u001b[32m━━━━━━━━━━━━━━━━━━━━\u001b[0m\u001b[37m\u001b[0m \u001b[1m0s\u001b[0m 160ms/step - accuracy: 0.7591 - loss: 0.4765 - val_accuracy: 0.9167 - val_loss: 0.4097\n",
      "Epoch 246/250\n",
      "\u001b[1m3/3\u001b[0m \u001b[32m━━━━━━━━━━━━━━━━━━━━\u001b[0m\u001b[37m\u001b[0m \u001b[1m0s\u001b[0m 148ms/step - accuracy: 0.7070 - loss: 0.5308 - val_accuracy: 0.9167 - val_loss: 0.4092\n",
      "Epoch 247/250\n",
      "\u001b[1m3/3\u001b[0m \u001b[32m━━━━━━━━━━━━━━━━━━━━\u001b[0m\u001b[37m\u001b[0m \u001b[1m0s\u001b[0m 174ms/step - accuracy: 0.7565 - loss: 0.5064 - val_accuracy: 0.9167 - val_loss: 0.4085\n",
      "Epoch 248/250\n",
      "\u001b[1m3/3\u001b[0m \u001b[32m━━━━━━━━━━━━━━━━━━━━\u001b[0m\u001b[37m\u001b[0m \u001b[1m0s\u001b[0m 157ms/step - accuracy: 0.7904 - loss: 0.4666 - val_accuracy: 0.9167 - val_loss: 0.4082\n",
      "Epoch 249/250\n",
      "\u001b[1m3/3\u001b[0m \u001b[32m━━━━━━━━━━━━━━━━━━━━\u001b[0m\u001b[37m\u001b[0m \u001b[1m0s\u001b[0m 147ms/step - accuracy: 0.7526 - loss: 0.4851 - val_accuracy: 0.9167 - val_loss: 0.4087\n",
      "Epoch 250/250\n",
      "\u001b[1m3/3\u001b[0m \u001b[32m━━━━━━━━━━━━━━━━━━━━\u001b[0m\u001b[37m\u001b[0m \u001b[1m0s\u001b[0m 155ms/step - accuracy: 0.7083 - loss: 0.4771 - val_accuracy: 0.9167 - val_loss: 0.4092\n"
     ]
    }
   ],
   "source": [
    "hist = model.fit(\n",
    "    xtrain,\n",
    "    ytrain,\n",
    "    epochs=250,\n",
    "    batch_size=32,\n",
    "    callbacks=[earlyStopping,tensorboard_callback],\n",
    "    validation_split=0.2,\n",
    "    verbose=1\n",
    ")"
   ]
  },
  {
   "cell_type": "markdown",
   "id": "3cf746bb-0bce-49a7-af61-419f91ec728c",
   "metadata": {},
   "source": [
    "<b>Loss and Accuracy<b>"
   ]
  },
  {
   "cell_type": "code",
   "execution_count": 31,
   "id": "01eba8ed-18cc-4b8b-9271-13935f840007",
   "metadata": {},
   "outputs": [
    {
     "name": "stdout",
     "output_type": "stream",
     "text": [
      "Loss: 0.293408066034317\n",
      "Accuracy: 0.9666666388511658\n"
     ]
    }
   ],
   "source": [
    "loss,accuracy=model.evaluate(xtest,ytest,verbose=0)\n",
    "print(\"Loss:\",loss)\n",
    "print(\"Accuracy:\",accuracy)"
   ]
  },
  {
   "cell_type": "code",
   "execution_count": 32,
   "id": "9f94f93e-de9e-4afa-951f-0779e94b6c29",
   "metadata": {},
   "outputs": [
    {
     "name": "stdout",
     "output_type": "stream",
     "text": [
      "\u001b[1m1/1\u001b[0m \u001b[32m━━━━━━━━━━━━━━━━━━━━\u001b[0m\u001b[37m\u001b[0m \u001b[1m0s\u001b[0m 190ms/step\n"
     ]
    }
   ],
   "source": [
    "ypred = model.predict(xtest)"
   ]
  },
  {
   "cell_type": "markdown",
   "id": "1be5af14-ff2d-4aeb-8675-0ed0f69e0aea",
   "metadata": {},
   "source": [
    "<b>Confusion Matrix<b>"
   ]
  },
  {
   "cell_type": "code",
   "execution_count": 33,
   "id": "d447b6bc-914b-4edc-a236-594df8d863f2",
   "metadata": {},
   "outputs": [
    {
     "data": {
      "text/plain": [
       "<sklearn.metrics._plot.confusion_matrix.ConfusionMatrixDisplay at 0x2171168e190>"
      ]
     },
     "execution_count": 33,
     "metadata": {},
     "output_type": "execute_result"
    },
    {
     "data": {
      "image/png": "[encoded data removed]",
      "text/plain": [
       "<Figure size 640x480 with 2 Axes>"
      ]
     },
     "metadata": {},
     "output_type": "display_data"
    }
   ],
   "source": [
    "from sklearn.metrics import confusion_matrix \n",
    "from sklearn.metrics import ConfusionMatrixDisplay\n",
    "ypredClass = np.argmax(ypred,axis=1)\n",
    "ytestClass = np.argmax(ytest,axis=1)\n",
    "ccs = confusion_matrix(ytestClass,ypredClass)\n",
    "ccm = ConfusionMatrixDisplay(confusion_matrix=ccs)\n",
    "ccm.plot()"
   ]
  },
  {
   "cell_type": "markdown",
   "id": "597a5e31-921f-4b84-834e-5c9987d9891f",
   "metadata": {},
   "source": [
    "<b>Classification Report<b>"
   ]
  },
  {
   "cell_type": "code",
   "execution_count": 34,
   "id": "4cbeddaf-f1a1-41e5-a9c8-90a8141af410",
   "metadata": {},
   "outputs": [
    {
     "name": "stdout",
     "output_type": "stream",
     "text": [
      "              precision    recall  f1-score   support\n",
      "\n",
      "           0       1.00      1.00      1.00        13\n",
      "           1       1.00      0.88      0.93         8\n",
      "           2       0.90      1.00      0.95         9\n",
      "\n",
      "    accuracy                           0.97        30\n",
      "   macro avg       0.97      0.96      0.96        30\n",
      "weighted avg       0.97      0.97      0.97        30\n",
      "\n"
     ]
    }
   ],
   "source": [
    "from sklearn.metrics import classification_report\n",
    "crr = classification_report(ytestClass,ypredClass)\n",
    "print(crr)"
   ]
  },
  {
   "cell_type": "markdown",
   "id": "5d9f2487-8157-49d4-8e03-e8e536b3088f",
   "metadata": {},
   "source": [
    "<b>Data Visualization<b>"
   ]
  },
  {
   "cell_type": "markdown",
   "id": "6b9e67c6-67b5-4d66-912e-c8c02b92df6f",
   "metadata": {},
   "source": [
    "<b>Loss<b>"
   ]
  },
  {
   "cell_type": "code",
   "execution_count": 35,
   "id": "bba8f476-2cfd-4245-bdc4-253b6acb4153",
   "metadata": {},
   "outputs": [
    {
     "data": {
      "image/png": "[encoded data removed]",
      "text/plain": [
       "<Figure size 640x480 with 1 Axes>"
      ]
     },
     "metadata": {},
     "output_type": "display_data"
    }
   ],
   "source": [
    "plt.plot(hist.history['loss'],label=\"Training Loss\")\n",
    "plt.plot(hist.history['val_loss'],label=\"Validation Loss\")\n",
    "plt.title(\"Epoch vs Loss\")\n",
    "plt.xlabel(\"Epoch\")\n",
    "plt.ylabel(\"Loss\")\n",
    "plt.legend()\n",
    "plt.show()"
   ]
  },
  {
   "cell_type": "markdown",
   "id": "ce48ca36-af15-40da-a2f6-faa9689f10f9",
   "metadata": {},
   "source": [
    "<b>Accuracy<b>"
   ]
  },
  {
   "cell_type": "code",
   "execution_count": 36,
   "id": "26566afe-5067-4bd0-8da3-eefaf9e45015",
   "metadata": {},
   "outputs": [
    {
     "data": {
      "image/png": "[encoded data removed]",
      "text/plain": [
       "<Figure size 640x480 with 1 Axes>"
      ]
     },
     "metadata": {},
     "output_type": "display_data"
    }
   ],
   "source": [
    "plt.plot(hist.history['accuracy'],label=\"Training Accuracy\")\n",
    "plt.plot(hist.history['val_accuracy'],label=\"Validation Accuracy\")\n",
    "plt.title(\"Epoch vs Accuracy\")\n",
    "plt.xlabel(\"Epoch\")\n",
    "plt.ylabel(\"Loss\")\n",
    "plt.legend()\n",
    "plt.show()"
   ]
  },
  {
   "cell_type": "markdown",
   "id": "111091e1-b248-400e-813c-cb2a4deb7d75",
   "metadata": {},
   "source": [
    "## Visualization Using Tensorboard"
   ]
  },
  {
   "cell_type": "code",
   "execution_count": 41,
   "id": "f3933c5e-3cef-46cf-a01a-780275967037",
   "metadata": {},
   "outputs": [
    {
     "name": "stdout",
     "output_type": "stream",
     "text": [
      "The tensorboard extension is already loaded. To reload it, use:\n",
      "  %reload_ext tensorboard\n"
     ]
    },
    {
     "data": {
      "text/plain": [
       "ERROR: Could not find `tensorboard`. Please ensure that your PATH\n",
       "contains an executable `tensorboard` program, or explicitly specify\n",
       "the path to a TensorBoard binary by setting the `TENSORBOARD_BINARY`\n",
       "environment variable."
      ]
     },
     "metadata": {},
     "output_type": "display_data"
    }
   ],
   "source": [
    "%load_ext tensorboard\n",
    "%tensorboard --logdir logs/fit"
   ]
  },
  {
   "cell_type": "code",
   "execution_count": 43,
   "id": "17fdc7df-ea14-4044-b996-6a4666619a35",
   "metadata": {},
   "outputs": [
    {
     "ename": "SyntaxError",
     "evalue": "invalid syntax (1785911203.py, line 1)",
     "output_type": "error",
     "traceback": [
      "\u001b[1;36m  Cell \u001b[1;32mIn[43], line 1\u001b[1;36m\u001b[0m\n\u001b[1;33m    python -m tensorboard.main --logdir logs\u001b[0m\n\u001b[1;37m              ^\u001b[0m\n\u001b[1;31mSyntaxError\u001b[0m\u001b[1;31m:\u001b[0m invalid syntax\n"
     ]
    }
   ],
   "source": [
    "python -m tensorboard.main --logdir logs"
   ]
  },
  {
   "cell_type": "code",
   "execution_count": null,
   "id": "298b486d-1027-462d-bbbf-95b4c0cf18fe",
   "metadata": {},
   "outputs": [],
   "source": []
  }
 ],
 "metadata": {
  "kernelspec": {
   "display_name": "Python 3 (ipykernel)",
   "language": "python",
   "name": "python3"
  },
  "language_info": {
   "codemirror_mode": {
    "name": "ipython",
    "version": 3
   },
   "file_extension": ".py",
   "mimetype": "text/x-python",
   "name": "python",
   "nbconvert_exporter": "python",
   "pygments_lexer": "ipython3",
   "version": "3.11.7"
  }
 },
 "nbformat": 4,
 "nbformat_minor": 5
}
