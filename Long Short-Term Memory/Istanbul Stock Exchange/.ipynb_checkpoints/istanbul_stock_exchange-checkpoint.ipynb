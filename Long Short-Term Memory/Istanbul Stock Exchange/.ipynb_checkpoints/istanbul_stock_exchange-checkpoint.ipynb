{
 "cells": [
  {
   "cell_type": "markdown",
   "id": "e949f81d-2aef-4c5d-b425-43a63048b338",
   "metadata": {},
   "source": [
    "## Loading necessary Libraries"
   ]
  },
  {
   "cell_type": "code",
   "execution_count": 1,
   "id": "232aa40c-b610-45ac-9e58-18211ad7cc93",
   "metadata": {},
   "outputs": [],
   "source": [
    "import numpy as np\n",
    "import pandas as pd\n",
    "import matplotlib.pyplot as plt\n",
    "from sklearn.preprocessing import MinMaxScaler\n",
    "from sklearn.model_selection import train_test_split\n",
    "from tensorflow.keras.models import Sequential\n",
    "from tensorflow.keras.layers import LSTM,Dense,Dropout"
   ]
  },
  {
   "cell_type": "markdown",
   "id": "cb6fbf66-1227-4f7a-a06b-efa645f6749e",
   "metadata": {},
   "source": [
    "## Loading the dataset"
   ]
  },
  {
   "cell_type": "code",
   "execution_count": 2,
   "id": "dcded977-f384-4a4e-96a0-c22c6adffec4",
   "metadata": {},
   "outputs": [
    {
     "data": {
      "text/html": [
       "<div>\n",
       "<style scoped>\n",
       "    .dataframe tbody tr th:only-of-type {\n",
       "        vertical-align: middle;\n",
       "    }\n",
       "\n",
       "    .dataframe tbody tr th {\n",
       "        vertical-align: top;\n",
       "    }\n",
       "\n",
       "    .dataframe thead th {\n",
       "        text-align: right;\n",
       "    }\n",
       "</style>\n",
       "<table border=\"1\" class=\"dataframe\">\n",
       "  <thead>\n",
       "    <tr style=\"text-align: right;\">\n",
       "      <th></th>\n",
       "      <th>date</th>\n",
       "      <th>TL BASED ISE</th>\n",
       "      <th>USD BASED ISE</th>\n",
       "      <th>SP</th>\n",
       "      <th>DAX</th>\n",
       "      <th>FTSE</th>\n",
       "      <th>NIKKEI</th>\n",
       "      <th>BOVESPA</th>\n",
       "      <th>EU</th>\n",
       "      <th>EM</th>\n",
       "    </tr>\n",
       "  </thead>\n",
       "  <tbody>\n",
       "    <tr>\n",
       "      <th>0</th>\n",
       "      <td>5-Jan-09</td>\n",
       "      <td>0.035754</td>\n",
       "      <td>0.038376</td>\n",
       "      <td>-0.004679</td>\n",
       "      <td>0.002193</td>\n",
       "      <td>0.003894</td>\n",
       "      <td>0.000000</td>\n",
       "      <td>0.031190</td>\n",
       "      <td>0.012698</td>\n",
       "      <td>0.028524</td>\n",
       "    </tr>\n",
       "    <tr>\n",
       "      <th>1</th>\n",
       "      <td>6-Jan-09</td>\n",
       "      <td>0.025426</td>\n",
       "      <td>0.031813</td>\n",
       "      <td>0.007787</td>\n",
       "      <td>0.008455</td>\n",
       "      <td>0.012866</td>\n",
       "      <td>0.004162</td>\n",
       "      <td>0.018920</td>\n",
       "      <td>0.011341</td>\n",
       "      <td>0.008773</td>\n",
       "    </tr>\n",
       "    <tr>\n",
       "      <th>2</th>\n",
       "      <td>7-Jan-09</td>\n",
       "      <td>-0.028862</td>\n",
       "      <td>-0.026353</td>\n",
       "      <td>-0.030469</td>\n",
       "      <td>-0.017833</td>\n",
       "      <td>-0.028735</td>\n",
       "      <td>0.017293</td>\n",
       "      <td>-0.035899</td>\n",
       "      <td>-0.017073</td>\n",
       "      <td>-0.020015</td>\n",
       "    </tr>\n",
       "    <tr>\n",
       "      <th>3</th>\n",
       "      <td>8-Jan-09</td>\n",
       "      <td>-0.062208</td>\n",
       "      <td>-0.084716</td>\n",
       "      <td>0.003391</td>\n",
       "      <td>-0.011726</td>\n",
       "      <td>-0.000466</td>\n",
       "      <td>-0.040061</td>\n",
       "      <td>0.028283</td>\n",
       "      <td>-0.005561</td>\n",
       "      <td>-0.019424</td>\n",
       "    </tr>\n",
       "    <tr>\n",
       "      <th>4</th>\n",
       "      <td>9-Jan-09</td>\n",
       "      <td>0.009860</td>\n",
       "      <td>0.009658</td>\n",
       "      <td>-0.021533</td>\n",
       "      <td>-0.019873</td>\n",
       "      <td>-0.012710</td>\n",
       "      <td>-0.004474</td>\n",
       "      <td>-0.009764</td>\n",
       "      <td>-0.010989</td>\n",
       "      <td>-0.007802</td>\n",
       "    </tr>\n",
       "  </tbody>\n",
       "</table>\n",
       "</div>"
      ],
      "text/plain": [
       "       date  TL BASED ISE  USD BASED ISE        SP       DAX      FTSE  \\\n",
       "0  5-Jan-09      0.035754       0.038376 -0.004679  0.002193  0.003894   \n",
       "1  6-Jan-09      0.025426       0.031813  0.007787  0.008455  0.012866   \n",
       "2  7-Jan-09     -0.028862      -0.026353 -0.030469 -0.017833 -0.028735   \n",
       "3  8-Jan-09     -0.062208      -0.084716  0.003391 -0.011726 -0.000466   \n",
       "4  9-Jan-09      0.009860       0.009658 -0.021533 -0.019873 -0.012710   \n",
       "\n",
       "     NIKKEI   BOVESPA        EU        EM  \n",
       "0  0.000000  0.031190  0.012698  0.028524  \n",
       "1  0.004162  0.018920  0.011341  0.008773  \n",
       "2  0.017293 -0.035899 -0.017073 -0.020015  \n",
       "3 -0.040061  0.028283 -0.005561 -0.019424  \n",
       "4 -0.004474 -0.009764 -0.010989 -0.007802  "
      ]
     },
     "execution_count": 2,
     "metadata": {},
     "output_type": "execute_result"
    }
   ],
   "source": [
    "df = pd.read_csv(\"istanbul_stock_exchange.csv\")\n",
    "df.head(5)"
   ]
  },
  {
   "cell_type": "markdown",
   "id": "db36274b-9de6-4b40-9c55-d5396f0d4164",
   "metadata": {},
   "source": [
    "## Data Preprocessing"
   ]
  },
  {
   "cell_type": "code",
   "execution_count": 3,
   "id": "796edc06-6cd3-45db-8a27-1e90c3b931ad",
   "metadata": {},
   "outputs": [
    {
     "data": {
      "text/plain": [
       "0"
      ]
     },
     "execution_count": 3,
     "metadata": {},
     "output_type": "execute_result"
    }
   ],
   "source": [
    "df.isnull().sum().sum()"
   ]
  },
  {
   "cell_type": "code",
   "execution_count": 4,
   "id": "d3496937-d09b-4288-be9f-ea0c99513390",
   "metadata": {},
   "outputs": [
    {
     "data": {
      "text/plain": [
       "0"
      ]
     },
     "execution_count": 4,
     "metadata": {},
     "output_type": "execute_result"
    }
   ],
   "source": [
    "df.duplicated().sum()"
   ]
  },
  {
   "cell_type": "code",
   "execution_count": 5,
   "id": "2d1df3df-7188-4a75-b30c-6a7a70d8f234",
   "metadata": {},
   "outputs": [
    {
     "data": {
      "text/plain": [
       "date              object\n",
       "TL BASED ISE     float64\n",
       "USD BASED ISE    float64\n",
       "SP               float64\n",
       "DAX              float64\n",
       "FTSE             float64\n",
       "NIKKEI           float64\n",
       "BOVESPA          float64\n",
       "EU               float64\n",
       "EM               float64\n",
       "dtype: object"
      ]
     },
     "execution_count": 5,
     "metadata": {},
     "output_type": "execute_result"
    }
   ],
   "source": [
    "df.dtypes"
   ]
  },
  {
   "cell_type": "code",
   "execution_count": 6,
   "id": "9ff4c500-b688-4597-95b9-113dca4be1f1",
   "metadata": {},
   "outputs": [
    {
     "name": "stderr",
     "output_type": "stream",
     "text": [
      "C:\\Users\\msaak\\AppData\\Local\\Temp\\ipykernel_10172\\3938174352.py:1: UserWarning: Could not infer format, so each element will be parsed individually, falling back to `dateutil`. To ensure parsing is consistent and as-expected, please specify a format.\n",
      "  df['date'] = pd.to_datetime(df['date'])\n"
     ]
    }
   ],
   "source": [
    "df['date'] = pd.to_datetime(df['date'])\n",
    "df['timestamp'] = df['date'].astype('int64') // 10**9\n",
    "df_numeric = df.drop(columns=['date'])"
   ]
  },
  {
   "cell_type": "code",
   "execution_count": 7,
   "id": "bc87dfe3-87db-4de8-9363-541f0bea1a14",
   "metadata": {},
   "outputs": [],
   "source": [
    "scaler = MinMaxScaler()\n",
    "df_scaled = scaler.fit_transform(df_numeric)"
   ]
  },
  {
   "cell_type": "code",
   "execution_count": 8,
   "id": "d697b983-5008-4261-9796-c442f29d7df0",
   "metadata": {},
   "outputs": [],
   "source": [
    "df_scaled = pd.DataFrame(df_scaled,columns=df_numeric.columns)"
   ]
  },
  {
   "cell_type": "code",
   "execution_count": 9,
   "id": "f208f9e5-6162-4239-954d-e528f9ed5789",
   "metadata": {},
   "outputs": [
    {
     "data": {
      "text/html": [
       "<div>\n",
       "<style scoped>\n",
       "    .dataframe tbody tr th:only-of-type {\n",
       "        vertical-align: middle;\n",
       "    }\n",
       "\n",
       "    .dataframe tbody tr th {\n",
       "        vertical-align: top;\n",
       "    }\n",
       "\n",
       "    .dataframe thead th {\n",
       "        text-align: right;\n",
       "    }\n",
       "</style>\n",
       "<table border=\"1\" class=\"dataframe\">\n",
       "  <thead>\n",
       "    <tr style=\"text-align: right;\">\n",
       "      <th></th>\n",
       "      <th>TL BASED ISE</th>\n",
       "      <th>USD BASED ISE</th>\n",
       "      <th>SP</th>\n",
       "      <th>DAX</th>\n",
       "      <th>FTSE</th>\n",
       "      <th>NIKKEI</th>\n",
       "      <th>BOVESPA</th>\n",
       "      <th>EU</th>\n",
       "      <th>EM</th>\n",
       "      <th>timestamp</th>\n",
       "    </tr>\n",
       "  </thead>\n",
       "  <tbody>\n",
       "    <tr>\n",
       "      <th>0</th>\n",
       "      <td>0.746889</td>\n",
       "      <td>0.664154</td>\n",
       "      <td>0.404333</td>\n",
       "      <td>0.489969</td>\n",
       "      <td>0.558409</td>\n",
       "      <td>0.451728</td>\n",
       "      <td>0.722875</td>\n",
       "      <td>0.530944</td>\n",
       "      <td>0.776771</td>\n",
       "      <td>0.000000</td>\n",
       "    </tr>\n",
       "    <tr>\n",
       "      <th>1</th>\n",
       "      <td>0.668147</td>\n",
       "      <td>0.628741</td>\n",
       "      <td>0.505990</td>\n",
       "      <td>0.546240</td>\n",
       "      <td>0.643736</td>\n",
       "      <td>0.489000</td>\n",
       "      <td>0.618569</td>\n",
       "      <td>0.519229</td>\n",
       "      <td>0.548080</td>\n",
       "      <td>0.001285</td>\n",
       "    </tr>\n",
       "    <tr>\n",
       "      <th>2</th>\n",
       "      <td>0.254242</td>\n",
       "      <td>0.314902</td>\n",
       "      <td>0.194024</td>\n",
       "      <td>0.310007</td>\n",
       "      <td>0.248066</td>\n",
       "      <td>0.606576</td>\n",
       "      <td>0.152590</td>\n",
       "      <td>0.273987</td>\n",
       "      <td>0.214765</td>\n",
       "      <td>0.002571</td>\n",
       "    </tr>\n",
       "    <tr>\n",
       "      <th>3</th>\n",
       "      <td>0.000000</td>\n",
       "      <td>0.000000</td>\n",
       "      <td>0.470147</td>\n",
       "      <td>0.364884</td>\n",
       "      <td>0.516936</td>\n",
       "      <td>0.093003</td>\n",
       "      <td>0.698163</td>\n",
       "      <td>0.373348</td>\n",
       "      <td>0.221615</td>\n",
       "      <td>0.003856</td>\n",
       "    </tr>\n",
       "    <tr>\n",
       "      <th>4</th>\n",
       "      <td>0.549467</td>\n",
       "      <td>0.509203</td>\n",
       "      <td>0.266894</td>\n",
       "      <td>0.291678</td>\n",
       "      <td>0.400483</td>\n",
       "      <td>0.411670</td>\n",
       "      <td>0.374747</td>\n",
       "      <td>0.326501</td>\n",
       "      <td>0.356172</td>\n",
       "      <td>0.005141</td>\n",
       "    </tr>\n",
       "    <tr>\n",
       "      <th>...</th>\n",
       "      <td>...</td>\n",
       "      <td>...</td>\n",
       "      <td>...</td>\n",
       "      <td>...</td>\n",
       "      <td>...</td>\n",
       "      <td>...</td>\n",
       "      <td>...</td>\n",
       "      <td>...</td>\n",
       "      <td>...</td>\n",
       "      <td>...</td>\n",
       "    </tr>\n",
       "    <tr>\n",
       "      <th>531</th>\n",
       "      <td>0.539854</td>\n",
       "      <td>0.529392</td>\n",
       "      <td>0.493360</td>\n",
       "      <td>0.487558</td>\n",
       "      <td>0.597004</td>\n",
       "      <td>0.502925</td>\n",
       "      <td>0.613904</td>\n",
       "      <td>0.481545</td>\n",
       "      <td>0.481694</td>\n",
       "      <td>0.992288</td>\n",
       "    </tr>\n",
       "    <tr>\n",
       "      <th>532</th>\n",
       "      <td>0.545277</td>\n",
       "      <td>0.543299</td>\n",
       "      <td>0.467534</td>\n",
       "      <td>0.459599</td>\n",
       "      <td>0.524650</td>\n",
       "      <td>0.475185</td>\n",
       "      <td>0.472073</td>\n",
       "      <td>0.416335</td>\n",
       "      <td>0.458533</td>\n",
       "      <td>0.993573</td>\n",
       "    </tr>\n",
       "    <tr>\n",
       "      <th>533</th>\n",
       "      <td>0.475748</td>\n",
       "      <td>0.448175</td>\n",
       "      <td>0.458172</td>\n",
       "      <td>0.496068</td>\n",
       "      <td>0.514491</td>\n",
       "      <td>0.456817</td>\n",
       "      <td>0.505584</td>\n",
       "      <td>0.426279</td>\n",
       "      <td>0.526836</td>\n",
       "      <td>0.994859</td>\n",
       "    </tr>\n",
       "    <tr>\n",
       "      <th>534</th>\n",
       "      <td>0.374650</td>\n",
       "      <td>0.383140</td>\n",
       "      <td>0.273345</td>\n",
       "      <td>0.342305</td>\n",
       "      <td>0.414130</td>\n",
       "      <td>0.463884</td>\n",
       "      <td>0.356235</td>\n",
       "      <td>0.312461</td>\n",
       "      <td>0.435419</td>\n",
       "      <td>0.998715</td>\n",
       "    </tr>\n",
       "    <tr>\n",
       "      <th>535</th>\n",
       "      <td>0.419044</td>\n",
       "      <td>0.352192</td>\n",
       "      <td>0.442491</td>\n",
       "      <td>0.466011</td>\n",
       "      <td>0.492862</td>\n",
       "      <td>0.291268</td>\n",
       "      <td>0.353601</td>\n",
       "      <td>0.374177</td>\n",
       "      <td>0.280975</td>\n",
       "      <td>1.000000</td>\n",
       "    </tr>\n",
       "  </tbody>\n",
       "</table>\n",
       "<p>536 rows × 10 columns</p>\n",
       "</div>"
      ],
      "text/plain": [
       "     TL BASED ISE  USD BASED ISE        SP       DAX      FTSE    NIKKEI  \\\n",
       "0        0.746889       0.664154  0.404333  0.489969  0.558409  0.451728   \n",
       "1        0.668147       0.628741  0.505990  0.546240  0.643736  0.489000   \n",
       "2        0.254242       0.314902  0.194024  0.310007  0.248066  0.606576   \n",
       "3        0.000000       0.000000  0.470147  0.364884  0.516936  0.093003   \n",
       "4        0.549467       0.509203  0.266894  0.291678  0.400483  0.411670   \n",
       "..            ...            ...       ...       ...       ...       ...   \n",
       "531      0.539854       0.529392  0.493360  0.487558  0.597004  0.502925   \n",
       "532      0.545277       0.543299  0.467534  0.459599  0.524650  0.475185   \n",
       "533      0.475748       0.448175  0.458172  0.496068  0.514491  0.456817   \n",
       "534      0.374650       0.383140  0.273345  0.342305  0.414130  0.463884   \n",
       "535      0.419044       0.352192  0.442491  0.466011  0.492862  0.291268   \n",
       "\n",
       "      BOVESPA        EU        EM  timestamp  \n",
       "0    0.722875  0.530944  0.776771   0.000000  \n",
       "1    0.618569  0.519229  0.548080   0.001285  \n",
       "2    0.152590  0.273987  0.214765   0.002571  \n",
       "3    0.698163  0.373348  0.221615   0.003856  \n",
       "4    0.374747  0.326501  0.356172   0.005141  \n",
       "..        ...       ...       ...        ...  \n",
       "531  0.613904  0.481545  0.481694   0.992288  \n",
       "532  0.472073  0.416335  0.458533   0.993573  \n",
       "533  0.505584  0.426279  0.526836   0.994859  \n",
       "534  0.356235  0.312461  0.435419   0.998715  \n",
       "535  0.353601  0.374177  0.280975   1.000000  \n",
       "\n",
       "[536 rows x 10 columns]"
      ]
     },
     "execution_count": 9,
     "metadata": {},
     "output_type": "execute_result"
    }
   ],
   "source": [
    "df_scaled"
   ]
  },
  {
   "cell_type": "markdown",
   "id": "531e88f8-a4d9-42a9-b4f4-a943d6ecce85",
   "metadata": {},
   "source": [
    "## Creating Sequences"
   ]
  },
  {
   "cell_type": "code",
   "execution_count": 10,
   "id": "a28ee38e-f55a-4c90-915b-c29fe8ebe798",
   "metadata": {},
   "outputs": [],
   "source": [
    "def create_sequences(data,seqence_length):\n",
    "    sequences = []\n",
    "    labels = []\n",
    "    for i in range(len(data)-seqence_length):\n",
    "        sequences.append(data[i:i+seqence_length])\n",
    "        labels.append(data[i+seqence_length])\n",
    "    return np.array(sequences),np.array(labels)"
   ]
  },
  {
   "cell_type": "code",
   "execution_count": 11,
   "id": "08fe9e7c-bdcf-42bc-a139-46f93442e20e",
   "metadata": {},
   "outputs": [],
   "source": [
    "sequence_length = 10"
   ]
  },
  {
   "cell_type": "code",
   "execution_count": 12,
   "id": "44ca6430-ae53-448c-9103-ed290938f913",
   "metadata": {},
   "outputs": [],
   "source": [
    "x,y = create_sequences(df_scaled.values,sequence_length)"
   ]
  },
  {
   "cell_type": "markdown",
   "id": "e88066cc-0d81-4c27-a768-98e9e8c91561",
   "metadata": {},
   "source": [
    "## Train - Test - Split"
   ]
  },
  {
   "cell_type": "code",
   "execution_count": 13,
   "id": "095d7a19-3b48-4500-affc-d92f589bcd45",
   "metadata": {},
   "outputs": [],
   "source": [
    "xtrain, xtest, ytrain, ytest = train_test_split(x, y, test_size=0.2, shuffle=False)"
   ]
  },
  {
   "cell_type": "markdown",
   "id": "d5f93128-e6e7-4ca3-a117-fe6bae373e96",
   "metadata": {},
   "source": [
    "## Building LSTM Model"
   ]
  },
  {
   "cell_type": "code",
   "execution_count": 14,
   "id": "4f03f5bf-ee2c-4201-8edc-04a3e013f071",
   "metadata": {},
   "outputs": [
    {
     "name": "stderr",
     "output_type": "stream",
     "text": [
      "C:\\Users\\msaak\\AppData\\Roaming\\Python\\Python311\\site-packages\\keras\\src\\layers\\rnn\\rnn.py:200: UserWarning: Do not pass an `input_shape`/`input_dim` argument to a layer. When using Sequential models, prefer using an `Input(shape)` object as the first layer in the model instead.\n",
      "  super().__init__(**kwargs)\n"
     ]
    }
   ],
   "source": [
    "model = Sequential([\n",
    "    LSTM(64,return_sequences=True,input_shape=(sequence_length,x.shape[2])),\n",
    "    Dropout(0.2),\n",
    "    LSTM(32, return_sequences=False),\n",
    "    Dropout(0.2),\n",
    "    Dense(16, activation=\"relu\"),\n",
    "    Dense(1)  # Output layer\n",
    "])\n",
    "\n",
    "# Compile the model\n",
    "model.compile(optimizer='adam', loss='mse')"
   ]
  },
  {
   "cell_type": "markdown",
   "id": "2a00004c-4013-41c6-b413-d7fe97d3fc6b",
   "metadata": {},
   "source": [
    "## Training Model"
   ]
  },
  {
   "cell_type": "code",
   "execution_count": 15,
   "id": "0898602f-e8bb-4a33-bcf1-b9798a5373ef",
   "metadata": {},
   "outputs": [
    {
     "name": "stdout",
     "output_type": "stream",
     "text": [
      "Epoch 1/75\n",
      "\u001b[1m14/14\u001b[0m \u001b[32m━━━━━━━━━━━━━━━━━━━━\u001b[0m\u001b[37m\u001b[0m \u001b[1m5s\u001b[0m 60ms/step - loss: 0.0686 - val_loss: 0.0376\n",
      "Epoch 2/75\n",
      "\u001b[1m14/14\u001b[0m \u001b[32m━━━━━━━━━━━━━━━━━━━━\u001b[0m\u001b[37m\u001b[0m \u001b[1m0s\u001b[0m 13ms/step - loss: 0.0299 - val_loss: 0.0243\n",
      "Epoch 3/75\n",
      "\u001b[1m14/14\u001b[0m \u001b[32m━━━━━━━━━━━━━━━━━━━━\u001b[0m\u001b[37m\u001b[0m \u001b[1m0s\u001b[0m 12ms/step - loss: 0.0261 - val_loss: 0.0244\n",
      "Epoch 4/75\n",
      "\u001b[1m14/14\u001b[0m \u001b[32m━━━━━━━━━━━━━━━━━━━━\u001b[0m\u001b[37m\u001b[0m \u001b[1m0s\u001b[0m 14ms/step - loss: 0.0273 - val_loss: 0.0253\n",
      "Epoch 5/75\n",
      "\u001b[1m14/14\u001b[0m \u001b[32m━━━━━━━━━━━━━━━━━━━━\u001b[0m\u001b[37m\u001b[0m \u001b[1m0s\u001b[0m 14ms/step - loss: 0.0241 - val_loss: 0.0241\n",
      "Epoch 6/75\n",
      "\u001b[1m14/14\u001b[0m \u001b[32m━━━━━━━━━━━━━━━━━━━━\u001b[0m\u001b[37m\u001b[0m \u001b[1m0s\u001b[0m 14ms/step - loss: 0.0255 - val_loss: 0.0241\n",
      "Epoch 7/75\n",
      "\u001b[1m14/14\u001b[0m \u001b[32m━━━━━━━━━━━━━━━━━━━━\u001b[0m\u001b[37m\u001b[0m \u001b[1m0s\u001b[0m 16ms/step - loss: 0.0247 - val_loss: 0.0274\n",
      "Epoch 8/75\n",
      "\u001b[1m14/14\u001b[0m \u001b[32m━━━━━━━━━━━━━━━━━━━━\u001b[0m\u001b[37m\u001b[0m \u001b[1m0s\u001b[0m 15ms/step - loss: 0.0246 - val_loss: 0.0242\n",
      "Epoch 9/75\n",
      "\u001b[1m14/14\u001b[0m \u001b[32m━━━━━━━━━━━━━━━━━━━━\u001b[0m\u001b[37m\u001b[0m \u001b[1m0s\u001b[0m 13ms/step - loss: 0.0212 - val_loss: 0.0240\n",
      "Epoch 10/75\n",
      "\u001b[1m14/14\u001b[0m \u001b[32m━━━━━━━━━━━━━━━━━━━━\u001b[0m\u001b[37m\u001b[0m \u001b[1m0s\u001b[0m 12ms/step - loss: 0.0235 - val_loss: 0.0242\n",
      "Epoch 11/75\n",
      "\u001b[1m14/14\u001b[0m \u001b[32m━━━━━━━━━━━━━━━━━━━━\u001b[0m\u001b[37m\u001b[0m \u001b[1m0s\u001b[0m 13ms/step - loss: 0.0249 - val_loss: 0.0244\n",
      "Epoch 12/75\n",
      "\u001b[1m14/14\u001b[0m \u001b[32m━━━━━━━━━━━━━━━━━━━━\u001b[0m\u001b[37m\u001b[0m \u001b[1m0s\u001b[0m 12ms/step - loss: 0.0252 - val_loss: 0.0246\n",
      "Epoch 13/75\n",
      "\u001b[1m14/14\u001b[0m \u001b[32m━━━━━━━━━━━━━━━━━━━━\u001b[0m\u001b[37m\u001b[0m \u001b[1m0s\u001b[0m 11ms/step - loss: 0.0225 - val_loss: 0.0246\n",
      "Epoch 14/75\n",
      "\u001b[1m14/14\u001b[0m \u001b[32m━━━━━━━━━━━━━━━━━━━━\u001b[0m\u001b[37m\u001b[0m \u001b[1m0s\u001b[0m 13ms/step - loss: 0.0250 - val_loss: 0.0240\n",
      "Epoch 15/75\n",
      "\u001b[1m14/14\u001b[0m \u001b[32m━━━━━━━━━━━━━━━━━━━━\u001b[0m\u001b[37m\u001b[0m \u001b[1m0s\u001b[0m 12ms/step - loss: 0.0222 - val_loss: 0.0245\n",
      "Epoch 16/75\n",
      "\u001b[1m14/14\u001b[0m \u001b[32m━━━━━━━━━━━━━━━━━━━━\u001b[0m\u001b[37m\u001b[0m \u001b[1m0s\u001b[0m 13ms/step - loss: 0.0246 - val_loss: 0.0248\n",
      "Epoch 17/75\n",
      "\u001b[1m14/14\u001b[0m \u001b[32m━━━━━━━━━━━━━━━━━━━━\u001b[0m\u001b[37m\u001b[0m \u001b[1m0s\u001b[0m 12ms/step - loss: 0.0221 - val_loss: 0.0243\n",
      "Epoch 18/75\n",
      "\u001b[1m14/14\u001b[0m \u001b[32m━━━━━━━━━━━━━━━━━━━━\u001b[0m\u001b[37m\u001b[0m \u001b[1m0s\u001b[0m 14ms/step - loss: 0.0249 - val_loss: 0.0242\n",
      "Epoch 19/75\n",
      "\u001b[1m14/14\u001b[0m \u001b[32m━━━━━━━━━━━━━━━━━━━━\u001b[0m\u001b[37m\u001b[0m \u001b[1m0s\u001b[0m 14ms/step - loss: 0.0225 - val_loss: 0.0242\n",
      "Epoch 20/75\n",
      "\u001b[1m14/14\u001b[0m \u001b[32m━━━━━━━━━━━━━━━━━━━━\u001b[0m\u001b[37m\u001b[0m \u001b[1m0s\u001b[0m 13ms/step - loss: 0.0221 - val_loss: 0.0247\n",
      "Epoch 21/75\n",
      "\u001b[1m14/14\u001b[0m \u001b[32m━━━━━━━━━━━━━━━━━━━━\u001b[0m\u001b[37m\u001b[0m \u001b[1m0s\u001b[0m 13ms/step - loss: 0.0227 - val_loss: 0.0247\n",
      "Epoch 22/75\n",
      "\u001b[1m14/14\u001b[0m \u001b[32m━━━━━━━━━━━━━━━━━━━━\u001b[0m\u001b[37m\u001b[0m \u001b[1m0s\u001b[0m 14ms/step - loss: 0.0201 - val_loss: 0.0257\n",
      "Epoch 23/75\n",
      "\u001b[1m14/14\u001b[0m \u001b[32m━━━━━━━━━━━━━━━━━━━━\u001b[0m\u001b[37m\u001b[0m \u001b[1m0s\u001b[0m 16ms/step - loss: 0.0214 - val_loss: 0.0276\n",
      "Epoch 24/75\n",
      "\u001b[1m14/14\u001b[0m \u001b[32m━━━━━━━━━━━━━━━━━━━━\u001b[0m\u001b[37m\u001b[0m \u001b[1m0s\u001b[0m 13ms/step - loss: 0.0234 - val_loss: 0.0252\n",
      "Epoch 25/75\n",
      "\u001b[1m14/14\u001b[0m \u001b[32m━━━━━━━━━━━━━━━━━━━━\u001b[0m\u001b[37m\u001b[0m \u001b[1m0s\u001b[0m 14ms/step - loss: 0.0241 - val_loss: 0.0249\n",
      "Epoch 26/75\n",
      "\u001b[1m14/14\u001b[0m \u001b[32m━━━━━━━━━━━━━━━━━━━━\u001b[0m\u001b[37m\u001b[0m \u001b[1m0s\u001b[0m 14ms/step - loss: 0.0213 - val_loss: 0.0249\n",
      "Epoch 27/75\n",
      "\u001b[1m14/14\u001b[0m \u001b[32m━━━━━━━━━━━━━━━━━━━━\u001b[0m\u001b[37m\u001b[0m \u001b[1m0s\u001b[0m 15ms/step - loss: 0.0220 - val_loss: 0.0244\n",
      "Epoch 28/75\n",
      "\u001b[1m14/14\u001b[0m \u001b[32m━━━━━━━━━━━━━━━━━━━━\u001b[0m\u001b[37m\u001b[0m \u001b[1m0s\u001b[0m 14ms/step - loss: 0.0212 - val_loss: 0.0245\n",
      "Epoch 29/75\n",
      "\u001b[1m14/14\u001b[0m \u001b[32m━━━━━━━━━━━━━━━━━━━━\u001b[0m\u001b[37m\u001b[0m \u001b[1m0s\u001b[0m 13ms/step - loss: 0.0218 - val_loss: 0.0269\n",
      "Epoch 30/75\n",
      "\u001b[1m14/14\u001b[0m \u001b[32m━━━━━━━━━━━━━━━━━━━━\u001b[0m\u001b[37m\u001b[0m \u001b[1m0s\u001b[0m 13ms/step - loss: 0.0229 - val_loss: 0.0246\n",
      "Epoch 31/75\n",
      "\u001b[1m14/14\u001b[0m \u001b[32m━━━━━━━━━━━━━━━━━━━━\u001b[0m\u001b[37m\u001b[0m \u001b[1m0s\u001b[0m 13ms/step - loss: 0.0218 - val_loss: 0.0241\n",
      "Epoch 32/75\n",
      "\u001b[1m14/14\u001b[0m \u001b[32m━━━━━━━━━━━━━━━━━━━━\u001b[0m\u001b[37m\u001b[0m \u001b[1m0s\u001b[0m 15ms/step - loss: 0.0212 - val_loss: 0.0243\n",
      "Epoch 33/75\n",
      "\u001b[1m14/14\u001b[0m \u001b[32m━━━━━━━━━━━━━━━━━━━━\u001b[0m\u001b[37m\u001b[0m \u001b[1m0s\u001b[0m 13ms/step - loss: 0.0219 - val_loss: 0.0244\n",
      "Epoch 34/75\n",
      "\u001b[1m14/14\u001b[0m \u001b[32m━━━━━━━━━━━━━━━━━━━━\u001b[0m\u001b[37m\u001b[0m \u001b[1m0s\u001b[0m 14ms/step - loss: 0.0230 - val_loss: 0.0246\n",
      "Epoch 35/75\n",
      "\u001b[1m14/14\u001b[0m \u001b[32m━━━━━━━━━━━━━━━━━━━━\u001b[0m\u001b[37m\u001b[0m \u001b[1m0s\u001b[0m 14ms/step - loss: 0.0240 - val_loss: 0.0244\n",
      "Epoch 36/75\n",
      "\u001b[1m14/14\u001b[0m \u001b[32m━━━━━━━━━━━━━━━━━━━━\u001b[0m\u001b[37m\u001b[0m \u001b[1m0s\u001b[0m 13ms/step - loss: 0.0233 - val_loss: 0.0249\n",
      "Epoch 37/75\n",
      "\u001b[1m14/14\u001b[0m \u001b[32m━━━━━━━━━━━━━━━━━━━━\u001b[0m\u001b[37m\u001b[0m \u001b[1m0s\u001b[0m 13ms/step - loss: 0.0222 - val_loss: 0.0260\n",
      "Epoch 38/75\n",
      "\u001b[1m14/14\u001b[0m \u001b[32m━━━━━━━━━━━━━━━━━━━━\u001b[0m\u001b[37m\u001b[0m \u001b[1m0s\u001b[0m 12ms/step - loss: 0.0223 - val_loss: 0.0243\n",
      "Epoch 39/75\n",
      "\u001b[1m14/14\u001b[0m \u001b[32m━━━━━━━━━━━━━━━━━━━━\u001b[0m\u001b[37m\u001b[0m \u001b[1m0s\u001b[0m 13ms/step - loss: 0.0211 - val_loss: 0.0242\n",
      "Epoch 40/75\n",
      "\u001b[1m14/14\u001b[0m \u001b[32m━━━━━━━━━━━━━━━━━━━━\u001b[0m\u001b[37m\u001b[0m \u001b[1m0s\u001b[0m 13ms/step - loss: 0.0215 - val_loss: 0.0239\n",
      "Epoch 41/75\n",
      "\u001b[1m14/14\u001b[0m \u001b[32m━━━━━━━━━━━━━━━━━━━━\u001b[0m\u001b[37m\u001b[0m \u001b[1m0s\u001b[0m 12ms/step - loss: 0.0225 - val_loss: 0.0265\n",
      "Epoch 42/75\n",
      "\u001b[1m14/14\u001b[0m \u001b[32m━━━━━━━━━━━━━━━━━━━━\u001b[0m\u001b[37m\u001b[0m \u001b[1m0s\u001b[0m 12ms/step - loss: 0.0204 - val_loss: 0.0240\n",
      "Epoch 43/75\n",
      "\u001b[1m14/14\u001b[0m \u001b[32m━━━━━━━━━━━━━━━━━━━━\u001b[0m\u001b[37m\u001b[0m \u001b[1m0s\u001b[0m 12ms/step - loss: 0.0203 - val_loss: 0.0251\n",
      "Epoch 44/75\n",
      "\u001b[1m14/14\u001b[0m \u001b[32m━━━━━━━━━━━━━━━━━━━━\u001b[0m\u001b[37m\u001b[0m \u001b[1m0s\u001b[0m 14ms/step - loss: 0.0203 - val_loss: 0.0246\n",
      "Epoch 45/75\n",
      "\u001b[1m14/14\u001b[0m \u001b[32m━━━━━━━━━━━━━━━━━━━━\u001b[0m\u001b[37m\u001b[0m \u001b[1m0s\u001b[0m 14ms/step - loss: 0.0226 - val_loss: 0.0240\n",
      "Epoch 46/75\n",
      "\u001b[1m14/14\u001b[0m \u001b[32m━━━━━━━━━━━━━━━━━━━━\u001b[0m\u001b[37m\u001b[0m \u001b[1m0s\u001b[0m 12ms/step - loss: 0.0225 - val_loss: 0.0252\n",
      "Epoch 47/75\n",
      "\u001b[1m14/14\u001b[0m \u001b[32m━━━━━━━━━━━━━━━━━━━━\u001b[0m\u001b[37m\u001b[0m \u001b[1m0s\u001b[0m 12ms/step - loss: 0.0224 - val_loss: 0.0240\n",
      "Epoch 48/75\n",
      "\u001b[1m14/14\u001b[0m \u001b[32m━━━━━━━━━━━━━━━━━━━━\u001b[0m\u001b[37m\u001b[0m \u001b[1m0s\u001b[0m 13ms/step - loss: 0.0201 - val_loss: 0.0256\n",
      "Epoch 49/75\n",
      "\u001b[1m14/14\u001b[0m \u001b[32m━━━━━━━━━━━━━━━━━━━━\u001b[0m\u001b[37m\u001b[0m \u001b[1m0s\u001b[0m 12ms/step - loss: 0.0201 - val_loss: 0.0243\n",
      "Epoch 50/75\n",
      "\u001b[1m14/14\u001b[0m \u001b[32m━━━━━━━━━━━━━━━━━━━━\u001b[0m\u001b[37m\u001b[0m \u001b[1m0s\u001b[0m 12ms/step - loss: 0.0226 - val_loss: 0.0254\n",
      "Epoch 51/75\n",
      "\u001b[1m14/14\u001b[0m \u001b[32m━━━━━━━━━━━━━━━━━━━━\u001b[0m\u001b[37m\u001b[0m \u001b[1m0s\u001b[0m 12ms/step - loss: 0.0229 - val_loss: 0.0255\n",
      "Epoch 52/75\n",
      "\u001b[1m14/14\u001b[0m \u001b[32m━━━━━━━━━━━━━━━━━━━━\u001b[0m\u001b[37m\u001b[0m \u001b[1m0s\u001b[0m 12ms/step - loss: 0.0215 - val_loss: 0.0239\n",
      "Epoch 53/75\n",
      "\u001b[1m14/14\u001b[0m \u001b[32m━━━━━━━━━━━━━━━━━━━━\u001b[0m\u001b[37m\u001b[0m \u001b[1m0s\u001b[0m 12ms/step - loss: 0.0223 - val_loss: 0.0248\n",
      "Epoch 54/75\n",
      "\u001b[1m14/14\u001b[0m \u001b[32m━━━━━━━━━━━━━━━━━━━━\u001b[0m\u001b[37m\u001b[0m \u001b[1m0s\u001b[0m 15ms/step - loss: 0.0201 - val_loss: 0.0244\n",
      "Epoch 55/75\n",
      "\u001b[1m14/14\u001b[0m \u001b[32m━━━━━━━━━━━━━━━━━━━━\u001b[0m\u001b[37m\u001b[0m \u001b[1m0s\u001b[0m 12ms/step - loss: 0.0220 - val_loss: 0.0251\n",
      "Epoch 56/75\n",
      "\u001b[1m14/14\u001b[0m \u001b[32m━━━━━━━━━━━━━━━━━━━━\u001b[0m\u001b[37m\u001b[0m \u001b[1m0s\u001b[0m 14ms/step - loss: 0.0222 - val_loss: 0.0243\n",
      "Epoch 57/75\n",
      "\u001b[1m14/14\u001b[0m \u001b[32m━━━━━━━━━━━━━━━━━━━━\u001b[0m\u001b[37m\u001b[0m \u001b[1m0s\u001b[0m 13ms/step - loss: 0.0201 - val_loss: 0.0249\n",
      "Epoch 58/75\n",
      "\u001b[1m14/14\u001b[0m \u001b[32m━━━━━━━━━━━━━━━━━━━━\u001b[0m\u001b[37m\u001b[0m \u001b[1m0s\u001b[0m 15ms/step - loss: 0.0200 - val_loss: 0.0241\n",
      "Epoch 59/75\n",
      "\u001b[1m14/14\u001b[0m \u001b[32m━━━━━━━━━━━━━━━━━━━━\u001b[0m\u001b[37m\u001b[0m \u001b[1m0s\u001b[0m 17ms/step - loss: 0.0214 - val_loss: 0.0255\n",
      "Epoch 60/75\n",
      "\u001b[1m14/14\u001b[0m \u001b[32m━━━━━━━━━━━━━━━━━━━━\u001b[0m\u001b[37m\u001b[0m \u001b[1m0s\u001b[0m 14ms/step - loss: 0.0216 - val_loss: 0.0242\n",
      "Epoch 61/75\n",
      "\u001b[1m14/14\u001b[0m \u001b[32m━━━━━━━━━━━━━━━━━━━━\u001b[0m\u001b[37m\u001b[0m \u001b[1m0s\u001b[0m 12ms/step - loss: 0.0218 - val_loss: 0.0241\n",
      "Epoch 62/75\n",
      "\u001b[1m14/14\u001b[0m \u001b[32m━━━━━━━━━━━━━━━━━━━━\u001b[0m\u001b[37m\u001b[0m \u001b[1m0s\u001b[0m 12ms/step - loss: 0.0217 - val_loss: 0.0244\n",
      "Epoch 63/75\n",
      "\u001b[1m14/14\u001b[0m \u001b[32m━━━━━━━━━━━━━━━━━━━━\u001b[0m\u001b[37m\u001b[0m \u001b[1m0s\u001b[0m 14ms/step - loss: 0.0195 - val_loss: 0.0240\n",
      "Epoch 64/75\n",
      "\u001b[1m14/14\u001b[0m \u001b[32m━━━━━━━━━━━━━━━━━━━━\u001b[0m\u001b[37m\u001b[0m \u001b[1m0s\u001b[0m 12ms/step - loss: 0.0213 - val_loss: 0.0247\n",
      "Epoch 65/75\n",
      "\u001b[1m14/14\u001b[0m \u001b[32m━━━━━━━━━━━━━━━━━━━━\u001b[0m\u001b[37m\u001b[0m \u001b[1m0s\u001b[0m 8ms/step - loss: 0.0224 - val_loss: 0.0249\n",
      "Epoch 66/75\n",
      "\u001b[1m14/14\u001b[0m \u001b[32m━━━━━━━━━━━━━━━━━━━━\u001b[0m\u001b[37m\u001b[0m \u001b[1m0s\u001b[0m 9ms/step - loss: 0.0209 - val_loss: 0.0239\n",
      "Epoch 67/75\n",
      "\u001b[1m14/14\u001b[0m \u001b[32m━━━━━━━━━━━━━━━━━━━━\u001b[0m\u001b[37m\u001b[0m \u001b[1m0s\u001b[0m 10ms/step - loss: 0.0209 - val_loss: 0.0254\n",
      "Epoch 68/75\n",
      "\u001b[1m14/14\u001b[0m \u001b[32m━━━━━━━━━━━━━━━━━━━━\u001b[0m\u001b[37m\u001b[0m \u001b[1m0s\u001b[0m 7ms/step - loss: 0.0210 - val_loss: 0.0243\n",
      "Epoch 69/75\n",
      "\u001b[1m14/14\u001b[0m \u001b[32m━━━━━━━━━━━━━━━━━━━━\u001b[0m\u001b[37m\u001b[0m \u001b[1m0s\u001b[0m 7ms/step - loss: 0.0200 - val_loss: 0.0240\n",
      "Epoch 70/75\n",
      "\u001b[1m14/14\u001b[0m \u001b[32m━━━━━━━━━━━━━━━━━━━━\u001b[0m\u001b[37m\u001b[0m \u001b[1m0s\u001b[0m 11ms/step - loss: 0.0199 - val_loss: 0.0239\n",
      "Epoch 71/75\n",
      "\u001b[1m14/14\u001b[0m \u001b[32m━━━━━━━━━━━━━━━━━━━━\u001b[0m\u001b[37m\u001b[0m \u001b[1m0s\u001b[0m 9ms/step - loss: 0.0212 - val_loss: 0.0239\n",
      "Epoch 72/75\n",
      "\u001b[1m14/14\u001b[0m \u001b[32m━━━━━━━━━━━━━━━━━━━━\u001b[0m\u001b[37m\u001b[0m \u001b[1m0s\u001b[0m 7ms/step - loss: 0.0203 - val_loss: 0.0241\n",
      "Epoch 73/75\n",
      "\u001b[1m14/14\u001b[0m \u001b[32m━━━━━━━━━━━━━━━━━━━━\u001b[0m\u001b[37m\u001b[0m \u001b[1m0s\u001b[0m 8ms/step - loss: 0.0206 - val_loss: 0.0244\n",
      "Epoch 74/75\n",
      "\u001b[1m14/14\u001b[0m \u001b[32m━━━━━━━━━━━━━━━━━━━━\u001b[0m\u001b[37m\u001b[0m \u001b[1m0s\u001b[0m 7ms/step - loss: 0.0204 - val_loss: 0.0241\n",
      "Epoch 75/75\n",
      "\u001b[1m14/14\u001b[0m \u001b[32m━━━━━━━━━━━━━━━━━━━━\u001b[0m\u001b[37m\u001b[0m \u001b[1m0s\u001b[0m 10ms/step - loss: 0.0228 - val_loss: 0.0240\n"
     ]
    }
   ],
   "source": [
    "hist = model.fit(\n",
    "    xtrain, ytrain,\n",
    "    validation_data=(xtest, ytest),\n",
    "    epochs=75,\n",
    "    batch_size=32,\n",
    "    verbose=1\n",
    ")"
   ]
  },
  {
   "cell_type": "markdown",
   "id": "03556304-927a-4dbe-836d-29aeef8458d8",
   "metadata": {},
   "source": [
    "## Visualization"
   ]
  },
  {
   "cell_type": "code",
   "execution_count": 16,
   "id": "af94034f-c3ba-48f1-8237-0ed235663381",
   "metadata": {},
   "outputs": [
    {
     "data": {
      "image/png": "[encoded data removed]",
      "text/plain": [
       "<Figure size 800x500 with 1 Axes>"
      ]
     },
     "metadata": {},
     "output_type": "display_data"
    }
   ],
   "source": [
    "plt.figure(figsize=(8, 5))\n",
    "plt.plot(hist.history['loss'], label='Train Loss')\n",
    "plt.plot(hist.history['val_loss'], label='Validation Loss')\n",
    "plt.xlabel('Epochs')\n",
    "plt.ylabel('Loss')\n",
    "plt.title('Model Training Loss Curve')\n",
    "plt.legend()\n",
    "plt.show()"
   ]
  },
  {
   "cell_type": "code",
   "execution_count": null,
   "id": "b80663da-8290-40c6-8d86-aa00b89c44d6",
   "metadata": {},
   "outputs": [],
   "source": []
  }
 ],
 "metadata": {
  "kernelspec": {
   "display_name": "Python 3 (ipykernel)",
   "language": "python",
   "name": "python3"
  },
  "language_info": {
   "codemirror_mode": {
    "name": "ipython",
    "version": 3
   },
   "file_extension": ".py",
   "mimetype": "text/x-python",
   "name": "python",
   "nbconvert_exporter": "python",
   "pygments_lexer": "ipython3",
   "version": "3.11.7"
  }
 },
 "nbformat": 4,
 "nbformat_minor": 5
}
