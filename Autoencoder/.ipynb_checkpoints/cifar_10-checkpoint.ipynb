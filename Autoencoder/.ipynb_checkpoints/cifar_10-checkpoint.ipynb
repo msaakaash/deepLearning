{
 "cells": [
  {
   "cell_type": "code",
   "execution_count": 3,
   "id": "ce12f689-a795-482d-8110-d0f278862a5d",
   "metadata": {},
   "outputs": [],
   "source": [
    "import numpy as np\n",
    "from tensorflow.keras.datasets import cifar10"
   ]
  },
  {
   "cell_type": "markdown",
   "id": "d35672b9-2c47-43f6-aa99-04cc8387b7fa",
   "metadata": {},
   "source": [
    "### Load and Preprocesses function"
   ]
  },
  {
   "cell_type": "code",
   "execution_count": 4,
   "id": "2e538e74-16e1-41e5-94a7-b66fa95d2c94",
   "metadata": {},
   "outputs": [],
   "source": [
    "def load_and_preprocess(add_noise=True,noise_factor=0.2):\n",
    "    (xtrain,_) , (xtest,_) = cifar10.load_data()\n",
    "    xtrain = xtrain.astype('float32') / 255.0\n",
    "    xtest = xtest.astype('float32') / 255.0\n",
    "    xtrain_noisy = xtrain.copy()\n",
    "    xtest_noisy = xtest.copy()\n",
    "    if add_noise:\n",
    "        xtrain_noisy = xtest_noisy + noise_factor*(np.random.normal(loc=0.0,scale=1.0,size = xtrain.shape))\n",
    "        xtest_noisy = xtest_noisy + noise_factor*(np.random.normal(loc=0.0,scale=1.0,size = xtest.shape))\n",
    "        #cliping\n",
    "        xtrain_noisy = np.clip(xtrain_noisy,0.0,1.0)\n",
    "        xtest_noisy = np.clip(xtest_noisy,0.0,1.0)\n",
    "    return xtrain_noisy,xtrain,xtest_noisy,xtest"
   ]
  },
  {
   "cell_type": "code",
   "execution_count": null,
   "id": "86417a02-dc6b-4e09-85ee-dc5f72fbbf90",
   "metadata": {},
   "outputs": [
    {
     "name": "stdout",
     "output_type": "stream",
     "text": [
      "Downloading data from https://www.cs.toronto.edu/~kriz/cifar-10-python.tar.gz\n",
      "\u001b[1m  3391488/170498071\u001b[0m \u001b[37m━━━━━━━━━━━━━━━━━━━━\u001b[0m \u001b[1m11:36\u001b[0m 4us/step"
     ]
    }
   ],
   "source": []
  },
  {
   "cell_type": "code",
   "execution_count": null,
   "id": "7a3c231b-6c15-4c2f-afd6-e1eacc4fbd23",
   "metadata": {},
   "outputs": [],
   "source": []
  }
 ],
 "metadata": {
  "kernelspec": {
   "display_name": "Python 3 (ipykernel)",
   "language": "python",
   "name": "python3"
  },
  "language_info": {
   "codemirror_mode": {
    "name": "ipython",
    "version": 3
   },
   "file_extension": ".py",
   "mimetype": "text/x-python",
   "name": "python",
   "nbconvert_exporter": "python",
   "pygments_lexer": "ipython3",
   "version": "3.11.7"
  }
 },
 "nbformat": 4,
 "nbformat_minor": 5
}
